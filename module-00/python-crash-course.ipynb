{
 "cells": [
  {
   "cell_type": "markdown",
   "metadata": {},
   "source": [
    "# <u>Module 0</u> - Python Crash Course\n",
    "\n",
    "`Python` is a versatile and powerful programming language that has gained immense popularity in the world of software development. Known for its simplicity, readability, and versatility, Python has become one of the go-to languages for both beginners and experienced developers alike."
   ]
  },
  {
   "cell_type": "code",
   "execution_count": 1,
   "metadata": {},
   "outputs": [],
   "source": [
    "import sys\n",
    "import subprocess\n",
    "import pkg_resources\n",
    "\n",
    "# Find out which packages are missing.\n",
    "installed_packages = {dist.key for dist in pkg_resources.working_set}\n",
    "required_packages = {'numpy', 'pandas', 'matplotlib'}\n",
    "missing_packages = required_packages - installed_packages\n",
    "\n",
    "# If there are missing packages install them.\n",
    "if missing_packages:\n",
    "    print('Installing the following packages: ' + str(missing_packages))\n",
    "    python = sys.executable\n",
    "    subprocess.check_call([python, '-m', 'pip', 'install', *missing_packages], stdout=subprocess.DEVNULL)"
   ]
  },
  {
   "cell_type": "markdown",
   "metadata": {},
   "source": [
    "## 1. Why Python?\n",
    "\n",
    "One of the key reasons behind Python's widespread adoption is its clear and concise syntax, which emphasizes readability and reduces the cost of program maintenance. This makes Python an excellent choice for individuals entering the world of programming, as it allows them to focus on problem-solving rather than getting bogged down by complex syntax.\n",
    "\n",
    "Moreover, Python has a vast and active community of developers who contribute to its extensive collection of libraries and frameworks. This rich ecosystem enables developers to easily access pre-built modules, saving time and effort in the development process.\n",
    "\n",
    "## 2. Applications of Python\n",
    "\n",
    "Python finds applications in a wide range of fields, including web development, data science, artificial intelligence, machine learning, automation, and more. The language's versatility makes it suitable for various domains, and its ease of integration with other languages and tools further enhances its appeal.\n",
    "\n",
    "Whether you are a beginner learning to code or an experienced developer looking to build complex applications, Python provides the tools and resources needed to accomplish your goals. Its versatility, coupled with an extensive community and robust ecosystem, positions Python as a top choice for individuals and organizations seeking a reliable and efficient programming language."
   ]
  },
  {
   "cell_type": "markdown",
   "metadata": {},
   "source": [
    "## 3. Variables\n",
    "\n",
    "In Python, a variable is a named location in the computer's memory that stores a value. Think of it as a container or a label that you can use to refer to a specific piece of data. Unlike some other programming languages, Python does not require explicit declaration of the variable type. You can simply assign a value to a variable, and Python will determine its type dynamically.\n",
    "\n",
    "In the above below, we assign different types of values to variables (`int`, `str`, `float`, and `bool`). The variable names (_age_, _name_, _pi_value_, and _is_student_) are user-defined, and they can be chosen according to the context of your program."
   ]
  },
  {
   "cell_type": "code",
   "execution_count": 2,
   "metadata": {},
   "outputs": [],
   "source": [
    "# Example of variable assignment.\n",
    "age = 25\n",
    "name = \"John Doe\"\n",
    "pi_value = 3.14\n",
    "is_student = True"
   ]
  },
  {
   "cell_type": "markdown",
   "metadata": {},
   "source": [
    "## 4. Built-in Data Types\n",
    "\n",
    "Python comes with several built-in data types that define the nature of a variable. Here are some common ones:\n",
    "\n",
    "`int`: Integer type for whole numbers."
   ]
  },
  {
   "cell_type": "code",
   "execution_count": 3,
   "metadata": {},
   "outputs": [],
   "source": [
    "age = 25"
   ]
  },
  {
   "cell_type": "markdown",
   "metadata": {},
   "source": [
    "`float`: Floating-point type for decimal numbers."
   ]
  },
  {
   "cell_type": "code",
   "execution_count": 4,
   "metadata": {},
   "outputs": [],
   "source": [
    "pi_value = 3.14"
   ]
  },
  {
   "cell_type": "markdown",
   "metadata": {},
   "source": [
    "`str`: String type for text."
   ]
  },
  {
   "cell_type": "code",
   "execution_count": 5,
   "metadata": {},
   "outputs": [],
   "source": [
    "name = \"John Doe\""
   ]
  },
  {
   "cell_type": "markdown",
   "metadata": {},
   "source": [
    "`bool`: Boolean type for representing truth values (True or False)."
   ]
  },
  {
   "cell_type": "code",
   "execution_count": 6,
   "metadata": {},
   "outputs": [],
   "source": [
    "is_student = True"
   ]
  },
  {
   "cell_type": "markdown",
   "metadata": {},
   "source": [
    "`list`: Ordered collection of items."
   ]
  },
  {
   "cell_type": "code",
   "execution_count": 7,
   "metadata": {},
   "outputs": [],
   "source": [
    "numbers = [1, 2, 3, 4, 5]"
   ]
  },
  {
   "cell_type": "markdown",
   "metadata": {},
   "source": [
    "`tuple`: Immutable ordered collection of items."
   ]
  },
  {
   "cell_type": "code",
   "execution_count": 8,
   "metadata": {},
   "outputs": [],
   "source": [
    "coordinates = (4, 7)"
   ]
  },
  {
   "cell_type": "markdown",
   "metadata": {},
   "source": [
    "`dict`: Dictionary type for key-value pairs."
   ]
  },
  {
   "cell_type": "code",
   "execution_count": 9,
   "metadata": {},
   "outputs": [],
   "source": [
    "person_info = {'name': 'John', 'age': 25, 'is_student': True}"
   ]
  },
  {
   "cell_type": "markdown",
   "metadata": {},
   "source": [
    "Understanding these built-in data types is essential for effective programming in Python, as they provide the foundation for manipulating and organizing data in your programs. As you become more familiar with Python, you'll discover additional data types and structures that enhance the language's flexibility and expressiveness."
   ]
  },
  {
   "cell_type": "markdown",
   "metadata": {},
   "source": [
    "## 5. Printing with Built-in Types\n",
    "\n",
    "In Python, the `print()` function is a versatile tool for displaying information. It allows you to output data of various types to the console. Let's explore different ways to use the `print()` statement with built-in types."
   ]
  },
  {
   "cell_type": "code",
   "execution_count": 10,
   "metadata": {},
   "outputs": [
    {
     "name": "stdout",
     "output_type": "stream",
     "text": [
      "John\n",
      "30\n"
     ]
    }
   ],
   "source": [
    "name = \"John\"\n",
    "age = 30\n",
    "print(name)  # Output: John\n",
    "print(age)   # Output: 30"
   ]
  },
  {
   "cell_type": "markdown",
   "metadata": {},
   "source": [
    "Now try the following:"
   ]
  },
  {
   "cell_type": "code",
   "execution_count": 11,
   "metadata": {},
   "outputs": [
    {
     "name": "stdout",
     "output_type": "stream",
     "text": [
      "5\n",
      "5\n",
      "10\n",
      "5 + 5\n",
      "55\n",
      "10\n",
      "55\n"
     ]
    }
   ],
   "source": [
    "print(5)\n",
    "print(\"5\")\n",
    "print(5 + 5)\n",
    "print(\"5 + 5\")\n",
    "print(\"5\" + \"5\")\n",
    "print(5*2)\n",
    "print(\"5\"*2)"
   ]
  },
  {
   "cell_type": "markdown",
   "metadata": {},
   "source": [
    "## 6. Operators in Python\n",
    "\n",
    "Operators in Python are special symbols or keywords that perform operations on operands. Operands can be variables, values, or expressions. Python supports various types of operators, including arithmetic, comparison, logical, assignment, and more. Let's explore some of the commonly used operators in Python.\n",
    "\n",
    "### Arithmetic Operators\n",
    "\n",
    "Arithmetic operators perform basic mathematical operations.\n",
    "\n",
    "* Addition (`+`):"
   ]
  },
  {
   "cell_type": "code",
   "execution_count": 12,
   "metadata": {},
   "outputs": [
    {
     "data": {
      "text/plain": [
       "8"
      ]
     },
     "execution_count": 12,
     "metadata": {},
     "output_type": "execute_result"
    }
   ],
   "source": [
    "result = 5 + 3  # Result: 8\n",
    "result"
   ]
  },
  {
   "cell_type": "markdown",
   "metadata": {},
   "source": [
    "* Subtraction (`-`):"
   ]
  },
  {
   "cell_type": "code",
   "execution_count": 13,
   "metadata": {},
   "outputs": [
    {
     "data": {
      "text/plain": [
       "2"
      ]
     },
     "execution_count": 13,
     "metadata": {},
     "output_type": "execute_result"
    }
   ],
   "source": [
    "result = 5 - 3  # Result: 2\n",
    "result"
   ]
  },
  {
   "cell_type": "markdown",
   "metadata": {},
   "source": [
    "* Multiplication (`*`):"
   ]
  },
  {
   "cell_type": "code",
   "execution_count": 14,
   "metadata": {},
   "outputs": [
    {
     "data": {
      "text/plain": [
       "15"
      ]
     },
     "execution_count": 14,
     "metadata": {},
     "output_type": "execute_result"
    }
   ],
   "source": [
    "result = 5 * 3  # Result: 15\n",
    "result"
   ]
  },
  {
   "cell_type": "markdown",
   "metadata": {},
   "source": [
    "* Division (`/`):"
   ]
  },
  {
   "cell_type": "code",
   "execution_count": 15,
   "metadata": {},
   "outputs": [
    {
     "data": {
      "text/plain": [
       "5.0"
      ]
     },
     "execution_count": 15,
     "metadata": {},
     "output_type": "execute_result"
    }
   ],
   "source": [
    "result = 10 / 2  # Result: 5.0 (float)\n",
    "result"
   ]
  },
  {
   "cell_type": "markdown",
   "metadata": {},
   "source": [
    "* Floor Division (`//`):"
   ]
  },
  {
   "cell_type": "code",
   "execution_count": 16,
   "metadata": {},
   "outputs": [
    {
     "data": {
      "text/plain": [
       "3"
      ]
     },
     "execution_count": 16,
     "metadata": {},
     "output_type": "execute_result"
    }
   ],
   "source": [
    "result = 10 // 3  # Result: 3 (integer, discards the fractional part)\n",
    "result"
   ]
  },
  {
   "cell_type": "markdown",
   "metadata": {},
   "source": [
    "* Modulus (`%`):"
   ]
  },
  {
   "cell_type": "code",
   "execution_count": 17,
   "metadata": {},
   "outputs": [
    {
     "data": {
      "text/plain": [
       "1"
      ]
     },
     "execution_count": 17,
     "metadata": {},
     "output_type": "execute_result"
    }
   ],
   "source": [
    "result = 10 % 3  # Result: 1 (remainder of the division)\n",
    "result"
   ]
  },
  {
   "cell_type": "markdown",
   "metadata": {},
   "source": [
    "* Exponentiation (`**`):"
   ]
  },
  {
   "cell_type": "code",
   "execution_count": 18,
   "metadata": {},
   "outputs": [
    {
     "data": {
      "text/plain": [
       "8"
      ]
     },
     "execution_count": 18,
     "metadata": {},
     "output_type": "execute_result"
    }
   ],
   "source": [
    "result = 2 ** 3  # Result: 8 (2 raised to the power of 3)\n",
    "result"
   ]
  },
  {
   "cell_type": "markdown",
   "metadata": {},
   "source": [
    "### Comparison Operators\n",
    "Comparison operators are used to compare values and return Boolean results.\n",
    "\n",
    "* Equal to (`==`):"
   ]
  },
  {
   "cell_type": "code",
   "execution_count": 19,
   "metadata": {},
   "outputs": [
    {
     "data": {
      "text/plain": [
       "True"
      ]
     },
     "execution_count": 19,
     "metadata": {},
     "output_type": "execute_result"
    }
   ],
   "source": [
    "result = (5 == 5)  # Result: True\n",
    "result"
   ]
  },
  {
   "cell_type": "markdown",
   "metadata": {},
   "source": [
    "* Not equal to (`!=`):"
   ]
  },
  {
   "cell_type": "code",
   "execution_count": 20,
   "metadata": {},
   "outputs": [
    {
     "data": {
      "text/plain": [
       "True"
      ]
     },
     "execution_count": 20,
     "metadata": {},
     "output_type": "execute_result"
    }
   ],
   "source": [
    "result = (5 != 3)  # Result: True\n",
    "result"
   ]
  },
  {
   "cell_type": "markdown",
   "metadata": {},
   "source": [
    "* Greater than (`>`):"
   ]
  },
  {
   "cell_type": "code",
   "execution_count": 21,
   "metadata": {},
   "outputs": [
    {
     "data": {
      "text/plain": [
       "True"
      ]
     },
     "execution_count": 21,
     "metadata": {},
     "output_type": "execute_result"
    }
   ],
   "source": [
    "result = (5 > 3)  # Result: True\n",
    "result"
   ]
  },
  {
   "cell_type": "markdown",
   "metadata": {},
   "source": [
    "* Less than (`<`):"
   ]
  },
  {
   "cell_type": "code",
   "execution_count": 22,
   "metadata": {},
   "outputs": [
    {
     "data": {
      "text/plain": [
       "False"
      ]
     },
     "execution_count": 22,
     "metadata": {},
     "output_type": "execute_result"
    }
   ],
   "source": [
    "result = (5 < 3)  # Result: False\n",
    "result"
   ]
  },
  {
   "cell_type": "markdown",
   "metadata": {},
   "source": [
    "* Greater than or equal to (`>=`):"
   ]
  },
  {
   "cell_type": "code",
   "execution_count": 23,
   "metadata": {},
   "outputs": [
    {
     "data": {
      "text/plain": [
       "True"
      ]
     },
     "execution_count": 23,
     "metadata": {},
     "output_type": "execute_result"
    }
   ],
   "source": [
    "result = (5 >= 5)  # Result: True\n",
    "result"
   ]
  },
  {
   "cell_type": "markdown",
   "metadata": {},
   "source": [
    "* Less than or equal to (`<=`):"
   ]
  },
  {
   "cell_type": "code",
   "execution_count": 24,
   "metadata": {},
   "outputs": [
    {
     "data": {
      "text/plain": [
       "False"
      ]
     },
     "execution_count": 24,
     "metadata": {},
     "output_type": "execute_result"
    }
   ],
   "source": [
    "result = (5 <= 3)  # Result: False\n",
    "result"
   ]
  },
  {
   "cell_type": "markdown",
   "metadata": {},
   "source": [
    "### Logical Operators\n",
    "\n",
    "Logical operators perform logical operations on Boolean values.\n",
    "\n",
    "* Logical AND (`and`):"
   ]
  },
  {
   "cell_type": "code",
   "execution_count": 25,
   "metadata": {},
   "outputs": [
    {
     "data": {
      "text/plain": [
       "False"
      ]
     },
     "execution_count": 25,
     "metadata": {},
     "output_type": "execute_result"
    }
   ],
   "source": [
    "result = (True and False)  # Result: False\n",
    "result"
   ]
  },
  {
   "cell_type": "markdown",
   "metadata": {},
   "source": [
    "* Logical OR (`or`):"
   ]
  },
  {
   "cell_type": "code",
   "execution_count": 26,
   "metadata": {},
   "outputs": [
    {
     "data": {
      "text/plain": [
       "True"
      ]
     },
     "execution_count": 26,
     "metadata": {},
     "output_type": "execute_result"
    }
   ],
   "source": [
    "result = (True or False)  # Result: True\n",
    "result"
   ]
  },
  {
   "cell_type": "markdown",
   "metadata": {},
   "source": [
    "* Logical NOT (`not`):"
   ]
  },
  {
   "cell_type": "code",
   "execution_count": 27,
   "metadata": {},
   "outputs": [
    {
     "data": {
      "text/plain": [
       "False"
      ]
     },
     "execution_count": 27,
     "metadata": {},
     "output_type": "execute_result"
    }
   ],
   "source": [
    "result = not True  # Result: False\n",
    "result"
   ]
  },
  {
   "cell_type": "markdown",
   "metadata": {},
   "source": [
    "These are just a few examples of the many operators available in Python. Understanding and mastering these operators are crucial for effective programming, allowing you to manipulate and compare values in your code efficiently."
   ]
  },
  {
   "cell_type": "markdown",
   "metadata": {},
   "source": [
    "## 7. Type Casting\n",
    "\n",
    "`Type casting`, also known as type conversion, refers to the process of converting one data type into another. Python provides built-in functions for type casting, allowing you to change the type of a variable or value as needed. Here are some common type casting functions in Python:\n",
    "\n",
    "* `int()`\n",
    "Converts a value to an integer."
   ]
  },
  {
   "cell_type": "code",
   "execution_count": 28,
   "metadata": {},
   "outputs": [
    {
     "name": "stdout",
     "output_type": "stream",
     "text": [
      "3\n"
     ]
    }
   ],
   "source": [
    "float_number = 3.14\n",
    "integer_number = int(float_number)\n",
    "print(integer_number)  # Output: 3"
   ]
  },
  {
   "cell_type": "markdown",
   "metadata": {},
   "source": [
    "* `float()`\n",
    "Converts a value to a floating-point number."
   ]
  },
  {
   "cell_type": "code",
   "execution_count": 29,
   "metadata": {},
   "outputs": [
    {
     "name": "stdout",
     "output_type": "stream",
     "text": [
      "5.0\n"
     ]
    }
   ],
   "source": [
    "int_number = 5\n",
    "float_number = float(int_number)\n",
    "print(float_number)  # Output: 5.0"
   ]
  },
  {
   "cell_type": "markdown",
   "metadata": {},
   "source": [
    "* `str()`\n",
    "Converts a value to a string."
   ]
  },
  {
   "cell_type": "code",
   "execution_count": 30,
   "metadata": {},
   "outputs": [
    {
     "name": "stdout",
     "output_type": "stream",
     "text": [
      "123\n"
     ]
    }
   ],
   "source": [
    "number = 123\n",
    "str_number = str(number)\n",
    "print(str_number)  # Output: '123'"
   ]
  },
  {
   "cell_type": "markdown",
   "metadata": {},
   "source": [
    "* `bool()`\n",
    "Converts a value to a boolean."
   ]
  },
  {
   "cell_type": "code",
   "execution_count": 31,
   "metadata": {},
   "outputs": [
    {
     "name": "stdout",
     "output_type": "stream",
     "text": [
      "True\n"
     ]
    }
   ],
   "source": [
    "non_zero_number = 42\n",
    "is_true = bool(non_zero_number)\n",
    "print(is_true)  # Output: True"
   ]
  },
  {
   "cell_type": "markdown",
   "metadata": {},
   "source": [
    "* `list()`, `tuple()`, `set()`\n",
    "Converts a sequence (like a string or list) to a list, tuple, or set, respectively."
   ]
  },
  {
   "cell_type": "code",
   "execution_count": 32,
   "metadata": {},
   "outputs": [
    {
     "name": "stdout",
     "output_type": "stream",
     "text": [
      "['P', 'y', 't', 'h', 'o', 'n']\n",
      "('P', 'y', 't', 'h', 'o', 'n')\n",
      "{'n', 'y', 'o', 't', 'h', 'P'}\n"
     ]
    }
   ],
   "source": [
    "text = \"Python\"\n",
    "list_text = list(text)\n",
    "tuple_text = tuple(text)\n",
    "set_text = set(text)\n",
    "\n",
    "print(list_text)  # Output: ['P', 'y', 't', 'h', 'o', 'n']\n",
    "print(tuple_text)  # Output: ('P', 'y', 't', 'h', 'o', 'n')\n",
    "print(set_text)  # Output: {'P', 'y', 't', 'h', 'o', 'n'}"
   ]
  },
  {
   "cell_type": "markdown",
   "metadata": {},
   "source": [
    "* `dict()`\n",
    "Converts a sequence of key-value pairs to a dictionary."
   ]
  },
  {
   "cell_type": "code",
   "execution_count": 33,
   "metadata": {},
   "outputs": [
    {
     "name": "stdout",
     "output_type": "stream",
     "text": [
      "{'a': 1, 'b': 2, 'c': 3}\n"
     ]
    }
   ],
   "source": [
    "pairs = [('a', 1), ('b', 2), ('c', 3)]\n",
    "dictionary = dict(pairs)\n",
    "print(dictionary)  # Output: {'a': 1, 'b': 2, 'c': 3}"
   ]
  },
  {
   "cell_type": "markdown",
   "metadata": {},
   "source": [
    "* `complex()`\n",
    "Converts a real number to a complex number."
   ]
  },
  {
   "cell_type": "code",
   "execution_count": 34,
   "metadata": {},
   "outputs": [
    {
     "name": "stdout",
     "output_type": "stream",
     "text": [
      "(2+0j)\n"
     ]
    }
   ],
   "source": [
    "real_number = 2\n",
    "complex_number = complex(real_number)\n",
    "print(complex_number)  # Output: (2+0j)"
   ]
  },
  {
   "cell_type": "markdown",
   "metadata": {},
   "source": [
    "What is the result of the following?"
   ]
  },
  {
   "cell_type": "code",
   "execution_count": 35,
   "metadata": {},
   "outputs": [],
   "source": [
    "result = int(float(\"3.2\"))"
   ]
  },
  {
   "cell_type": "markdown",
   "metadata": {},
   "source": [
    "Type casting is a valuable tool in Python, allowing you to ensure compatibility between different data types and perform operations that require consistent types. However, it's essential to be aware of potential data loss or unexpected behavior when converting between certain types, especially when precision may be affected, as in the case of converting from a float to an int."
   ]
  },
  {
   "cell_type": "markdown",
   "metadata": {},
   "source": [
    "## String Manipulation\n",
    "\n",
    "String manipulation is a fundamental aspect of programming, and Python provides a rich set of tools for working with strings. Here are some common techniques and methods for string manipulation:\n",
    "\n",
    "* Concatenation is the process of combining strings. You can use the `+` operator to concatenate two or more strings:"
   ]
  },
  {
   "cell_type": "code",
   "execution_count": 36,
   "metadata": {},
   "outputs": [
    {
     "name": "stdout",
     "output_type": "stream",
     "text": [
      "John Doe\n"
     ]
    }
   ],
   "source": [
    "first_name = \"John\"\n",
    "last_name = \"Doe\"\n",
    "full_name = first_name + \" \" + last_name\n",
    "print(full_name)  # Output: John Doe"
   ]
  },
  {
   "cell_type": "markdown",
   "metadata": {},
   "source": [
    "* String Interpolation allows you to embed variables within a string. There are multiple ways to achieve this, such as using the `%` operator or the `.format()` method:"
   ]
  },
  {
   "cell_type": "code",
   "execution_count": 37,
   "metadata": {},
   "outputs": [
    {
     "name": "stdout",
     "output_type": "stream",
     "text": [
      "Hello, Alice! You are 28 years old.\n"
     ]
    }
   ],
   "source": [
    "name = \"Alice\"\n",
    "age = 28\n",
    "\n",
    "# Using % operator\n",
    "message = \"Hello, %s! You are %d years old.\" % (name, age)\n",
    "\n",
    "# Using .format() method\n",
    "message = \"Hello, {}! You are {} years old.\".format(name, age)\n",
    "\n",
    "print(message)\n",
    "# Output: Hello, Alice! You are 28 years old."
   ]
  },
  {
   "cell_type": "markdown",
   "metadata": {},
   "source": [
    "* String Methods\n",
    "\n",
    "Python provides a variety of built-in string methods for manipulation, including:\n",
    "\n",
    "`len()`: Returns the length of a string.\n",
    "\n",
    "`lower()`, `upper()`: Converts a string to lowercase or uppercase.\n",
    "\n",
    "`strip()`: Removes leading and trailing whitespaces.\n",
    "\n",
    "`replace()`: Replaces a substring with another substring."
   ]
  },
  {
   "cell_type": "code",
   "execution_count": 38,
   "metadata": {},
   "outputs": [
    {
     "name": "stdout",
     "output_type": "stream",
     "text": [
      "24\n",
      "   python programming   \n",
      "Python Programming\n",
      "   Jython Jrogramming   \n"
     ]
    }
   ],
   "source": [
    "text = \"   Python Programming   \"\n",
    "print(len(text))           # Output: 24\n",
    "print(text.lower())        # Output: python programming\n",
    "print(text.strip())        # Output: Python Programming\n",
    "print(text.replace('P', 'J'))  # Output:   Jython Jrogramming   "
   ]
  },
  {
   "cell_type": "markdown",
   "metadata": {},
   "source": [
    "* String Splitting and Joining\n",
    "\n",
    "Use the `split()` method to split a string into a list of substrings based on a delimiter. Conversely, the `join()` method joins a list of strings into a single string:"
   ]
  },
  {
   "cell_type": "code",
   "execution_count": 39,
   "metadata": {},
   "outputs": [
    {
     "name": "stdout",
     "output_type": "stream",
     "text": [
      "['apple', 'orange', 'banana', 'grape']\n",
      "apple-orange-banana-grape\n"
     ]
    }
   ],
   "source": [
    "csv_data = \"apple,orange,banana,grape\"\n",
    "fruits_list = csv_data.split(',')\n",
    "print(fruits_list)  # Output: ['apple', 'orange', 'banana', 'grape']\n",
    "\n",
    "# Joining the list into a string\n",
    "joined_string = '-'.join(fruits_list)\n",
    "print(joined_string)  # Output: apple-orange-banana-grape"
   ]
  },
  {
   "cell_type": "markdown",
   "metadata": {},
   "source": [
    "* Checking and Formatting\n",
    "\n",
    "`startswith()`, `endswith()`: Check if a string starts or ends with a specific substring.\n",
    "\n",
    "`in` keyword: Check if a substring is present in a string.\n",
    "\n",
    "`format()` method: Format strings with placeholders."
   ]
  },
  {
   "cell_type": "code",
   "execution_count": 40,
   "metadata": {},
   "outputs": [
    {
     "name": "stdout",
     "output_type": "stream",
     "text": [
      "True\n",
      "True\n",
      "Name: Alice, Age: 30\n"
     ]
    }
   ],
   "source": [
    "email = \"user@example.com\"\n",
    "print(email.startswith(\"user\"))  # Output: True\n",
    "print(\"@\" in email)              # Output: True\n",
    "\n",
    "# String formatting\n",
    "name = \"Alice\"\n",
    "age = 30\n",
    "formatted_string = \"Name: {}, Age: {}\".format(name, age)\n",
    "print(formatted_string)\n",
    "# Output: Name: Alice, Age: 30"
   ]
  },
  {
   "cell_type": "markdown",
   "metadata": {},
   "source": [
    "Understanding these string manipulation techniques will empower you to effectively work with text data in Python, whether you're processing user inputs, parsing files, or formatting output."
   ]
  },
  {
   "cell_type": "markdown",
   "metadata": {},
   "source": [
    "## 8. List Manipulation\n",
    "\n",
    "Lists are a versatile and widely used data structure in Python, providing dynamic arrays to store and manipulate collections of items. Here are some common techniques and methods for list manipulation:\n",
    "\n",
    "* Creating Lists\n",
    "\n",
    "You can create lists by enclosing items in square brackets `[]`:"
   ]
  },
  {
   "cell_type": "code",
   "execution_count": 41,
   "metadata": {},
   "outputs": [],
   "source": [
    "numbers = [1, 2, 3, 4, 5]\n",
    "fruits = [\"apple\", \"orange\", \"banana\", \"grape\"]"
   ]
  },
  {
   "cell_type": "markdown",
   "metadata": {},
   "source": [
    "* Accessing Elements\n",
    "\n",
    "Access elements in a list using indexing. Remember that Python uses 0-based indexing:"
   ]
  },
  {
   "cell_type": "code",
   "execution_count": 42,
   "metadata": {},
   "outputs": [
    {
     "name": "stdout",
     "output_type": "stream",
     "text": [
      "1\n"
     ]
    }
   ],
   "source": [
    "first_number = numbers[0]  # Access the first element\n",
    "print(first_number)        # Output: 1"
   ]
  },
  {
   "cell_type": "markdown",
   "metadata": {},
   "source": [
    "* Slicing Lists\n",
    "\n",
    "Slice a list to extract a subset of elements:"
   ]
  },
  {
   "cell_type": "code",
   "execution_count": 43,
   "metadata": {},
   "outputs": [
    {
     "name": "stdout",
     "output_type": "stream",
     "text": [
      "[2, 3, 4]\n"
     ]
    }
   ],
   "source": [
    "subset = numbers[1:4]  # Elements at index 1, 2, 3\n",
    "print(subset)          # Output: [2, 3, 4]"
   ]
  },
  {
   "cell_type": "markdown",
   "metadata": {},
   "source": [
    "* Modifying Lists\n",
    "\n",
    "Lists are mutable, meaning you can modify them after creation.\n",
    "\n",
    "1. Appending Elements:"
   ]
  },
  {
   "cell_type": "code",
   "execution_count": 44,
   "metadata": {},
   "outputs": [
    {
     "name": "stdout",
     "output_type": "stream",
     "text": [
      "['apple', 'orange', 'banana', 'grape', 'kiwi']\n"
     ]
    }
   ],
   "source": [
    "fruits.append(\"kiwi\")  # Append \"kiwi\" to the end\n",
    "print(fruits)          # Output: ['apple', 'orange', 'banana', 'grape', 'kiwi']"
   ]
  },
  {
   "cell_type": "markdown",
   "metadata": {},
   "source": [
    "2. Inserting Elements:"
   ]
  },
  {
   "cell_type": "code",
   "execution_count": 45,
   "metadata": {},
   "outputs": [
    {
     "name": "stdout",
     "output_type": "stream",
     "text": [
      "['apple', 'orange', 'pear', 'banana', 'grape', 'kiwi']\n"
     ]
    }
   ],
   "source": [
    "fruits.insert(2, \"pear\")  # Insert \"pear\" at index 2\n",
    "print(fruits)             # Output: ['apple', 'orange', 'pear', 'banana', 'grape', 'kiwi']"
   ]
  },
  {
   "cell_type": "markdown",
   "metadata": {},
   "source": [
    "3. Removing Elements:"
   ]
  },
  {
   "cell_type": "code",
   "execution_count": 46,
   "metadata": {},
   "outputs": [
    {
     "name": "stdout",
     "output_type": "stream",
     "text": [
      "['apple', 'pear', 'banana', 'grape', 'kiwi']\n"
     ]
    }
   ],
   "source": [
    "fruits.remove(\"orange\")  # Remove the first occurrence of \"orange\"\n",
    "print(fruits)            # Output: ['apple', 'pear', 'banana', 'grape', 'kiwi']"
   ]
  },
  {
   "cell_type": "markdown",
   "metadata": {},
   "source": [
    "4. Pop and Delete:"
   ]
  },
  {
   "cell_type": "code",
   "execution_count": 47,
   "metadata": {},
   "outputs": [
    {
     "name": "stdout",
     "output_type": "stream",
     "text": [
      "pear ['banana', 'grape', 'kiwi']\n"
     ]
    }
   ],
   "source": [
    "popped_item = fruits.pop(1)  # Remove and return the element at index 1\n",
    "del fruits[0]                # Delete the element at index 0\n",
    "print(popped_item, fruits)   # Output: pear ['banana', 'grape', 'kiwi']"
   ]
  },
  {
   "cell_type": "markdown",
   "metadata": {},
   "source": [
    "5. List Concatenation and Repetition\n",
    "\n",
    "Combine lists using concatenation (`+`) or repeat a list using repetition (`*`):"
   ]
  },
  {
   "cell_type": "code",
   "execution_count": 48,
   "metadata": {},
   "outputs": [
    {
     "name": "stdout",
     "output_type": "stream",
     "text": [
      "[1, 2, 3, 4, 5, 'banana', 'grape', 'kiwi']\n",
      "[1, 2, 3, 4, 5, 1, 2, 3, 4, 5, 1, 2, 3, 4, 5]\n"
     ]
    }
   ],
   "source": [
    "combined_list = numbers + fruits\n",
    "repeated_list = numbers * 3\n",
    "print(combined_list)\n",
    "# Output: [1, 2, 3, 4, 5, 'apple', 'orange', 'banana', 'grape', 'kiwi']\n",
    "print(repeated_list)\n",
    "# Output: [1, 2, 3, 4, 5, 1, 2, 3, 4, 5, 1, 2, 3, 4, 5]"
   ]
  },
  {
   "cell_type": "markdown",
   "metadata": {},
   "source": [
    "6. List Comprehension\n",
    "\n",
    "List comprehensions provide a concise way to create lists:"
   ]
  },
  {
   "cell_type": "code",
   "execution_count": 49,
   "metadata": {},
   "outputs": [
    {
     "name": "stdout",
     "output_type": "stream",
     "text": [
      "[1, 4, 9, 16, 25]\n"
     ]
    }
   ],
   "source": [
    "squared_numbers = [x ** 2 for x in numbers]\n",
    "print(squared_numbers)  # Output: [1, 4, 9, 16, 25]"
   ]
  },
  {
   "cell_type": "markdown",
   "metadata": {},
   "source": [
    "7. Sorting and Reversing Lists\n",
    "\n",
    "Sort a list in ascending or descending order, or reverse the order:"
   ]
  },
  {
   "cell_type": "code",
   "execution_count": 50,
   "metadata": {},
   "outputs": [
    {
     "name": "stdout",
     "output_type": "stream",
     "text": [
      "[1, 2, 3, 4, 5]\n",
      "['kiwi', 'grape', 'banana']\n"
     ]
    }
   ],
   "source": [
    "numbers.sort()        # Sort in ascending order\n",
    "fruits.sort(reverse=True)  # Sort in descending order\n",
    "print(numbers)        # Output: [1, 2, 3, 4, 5]\n",
    "print(fruits)         # Output: ['kiwi', 'grape', 'banana', 'apple']"
   ]
  },
  {
   "cell_type": "markdown",
   "metadata": {},
   "source": [
    "8. List Membership and Count\n",
    "\n",
    "Check if an item is present in a list using the in keyword, and count occurrences with the `count()` method:"
   ]
  },
  {
   "cell_type": "code",
   "execution_count": 51,
   "metadata": {},
   "outputs": [
    {
     "name": "stdout",
     "output_type": "stream",
     "text": [
      "True\n",
      "1\n"
     ]
    }
   ],
   "source": [
    "print(\"kiwi\" in fruits)      # Output: True\n",
    "print(numbers.count(3))       # Output: 1"
   ]
  },
  {
   "cell_type": "markdown",
   "metadata": {},
   "source": [
    "Understanding these list manipulation techniques will enhance your ability to work with dynamic collections of data in Python, whether you're dealing with numerical data, text data, or a combination of both."
   ]
  },
  {
   "cell_type": "markdown",
   "metadata": {},
   "source": [
    "## 9. Conditional Statements\n",
    "\n",
    "Conditional statements allow you to control the flow of your program based on specific conditions. In Python, you can use the `if`, `elif` (else if), and `else` statements for this purpose.\n",
    "\n",
    "* `if` Statement\n",
    "\n",
    "The `if` statement checks a condition, and if it is true, the indented block of code beneath it is executed:"
   ]
  },
  {
   "cell_type": "code",
   "execution_count": 52,
   "metadata": {},
   "outputs": [
    {
     "name": "stdout",
     "output_type": "stream",
     "text": [
      "x is greater than 5\n"
     ]
    }
   ],
   "source": [
    "x = 10\n",
    "\n",
    "if x > 5:\n",
    "    print(\"x is greater than 5\")"
   ]
  },
  {
   "cell_type": "markdown",
   "metadata": {},
   "source": [
    "* `if`-`else` Statement\n",
    "\n",
    "The `if`-`else` statement adds an alternative block of code to execute when the condition is false:"
   ]
  },
  {
   "cell_type": "code",
   "execution_count": 53,
   "metadata": {},
   "outputs": [
    {
     "name": "stdout",
     "output_type": "stream",
     "text": [
      "x is not greater than 5\n"
     ]
    }
   ],
   "source": [
    "x = 3\n",
    "\n",
    "if x > 5:\n",
    "    print(\"x is greater than 5\")\n",
    "else:\n",
    "    print(\"x is not greater than 5\")"
   ]
  },
  {
   "cell_type": "markdown",
   "metadata": {},
   "source": [
    "* `if`-`elif`-`else` Statement\n",
    "\n",
    "The `if`-`elif`-`else` statement allows you to check multiple conditions:"
   ]
  },
  {
   "cell_type": "code",
   "execution_count": 54,
   "metadata": {},
   "outputs": [
    {
     "name": "stdout",
     "output_type": "stream",
     "text": [
      "x is equal to 5\n"
     ]
    }
   ],
   "source": [
    "x = 5\n",
    "\n",
    "if x > 5:\n",
    "    print(\"x is greater than 5\")\n",
    "elif x == 5:\n",
    "    print(\"x is equal to 5\")\n",
    "else:\n",
    "    print(\"x is less than 5\")"
   ]
  },
  {
   "cell_type": "markdown",
   "metadata": {},
   "source": [
    "* Nested `if` Statements\n",
    "\n",
    "You can nest if statements to check conditions within conditions:"
   ]
  },
  {
   "cell_type": "code",
   "execution_count": 55,
   "metadata": {},
   "outputs": [
    {
     "name": "stdout",
     "output_type": "stream",
     "text": [
      "x is greater than 5\n",
      "y is also greater than 2\n"
     ]
    }
   ],
   "source": [
    "x = 10\n",
    "y = 5\n",
    "\n",
    "if x > 5:\n",
    "    print(\"x is greater than 5\")\n",
    "    \n",
    "    if y > 2:\n",
    "        print(\"y is also greater than 2\")\n",
    "    else:\n",
    "        print(\"y is not greater than 2\")"
   ]
  },
  {
   "cell_type": "markdown",
   "metadata": {},
   "source": [
    "* Logical Operators (`and`, `or`, `not`)\n",
    "\n",
    "Combine conditions using logical operators:"
   ]
  },
  {
   "cell_type": "code",
   "execution_count": 56,
   "metadata": {},
   "outputs": [
    {
     "name": "stdout",
     "output_type": "stream",
     "text": [
      "You are between 18 and 30 years old\n",
      "You are not older than 30\n"
     ]
    }
   ],
   "source": [
    "age = 25\n",
    "\n",
    "if age >= 18 and age <= 30:\n",
    "    print(\"You are between 18 and 30 years old\")\n",
    "\n",
    "if age < 18 or age > 65:\n",
    "    print(\"You are either under 18 or over 65\")\n",
    "\n",
    "if not age > 30:\n",
    "    print(\"You are not older than 30\")"
   ]
  },
  {
   "cell_type": "markdown",
   "metadata": {},
   "source": [
    "* Ternary Conditional Expression\n",
    "\n",
    "Use a ternary conditional expression for a concise way to write simple `if`-`else` statements:"
   ]
  },
  {
   "cell_type": "code",
   "execution_count": 57,
   "metadata": {},
   "outputs": [
    {
     "name": "stdout",
     "output_type": "stream",
     "text": [
      "x is greater than 5\n"
     ]
    }
   ],
   "source": [
    "x = 8\n",
    "\n",
    "message = \"x is greater than 5\" if x > 5 else \"x is not greater than 5\"\n",
    "print(message)"
   ]
  },
  {
   "cell_type": "markdown",
   "metadata": {},
   "source": [
    "Conditional statements are essential for creating dynamic and responsive programs. They allow your code to make decisions and respond to different situations, making your programs more flexible and capable of handling various scenarios."
   ]
  },
  {
   "cell_type": "markdown",
   "metadata": {},
   "source": [
    "\n",
    "## 10. Loops\n",
    "\n",
    "Loops are essential for repeating a block of code multiple times. In Python, there are two main types of loops: `for` loops and `while` loops.\n",
    "\n",
    "* `for` Loop\n",
    "\n",
    "The `for` loop is used for iterating over a sequence (such as a list, tuple, string, or range). It executes a block of code for each item in the sequence:\n",
    "\n",
    "Example with a List:"
   ]
  },
  {
   "cell_type": "code",
   "execution_count": 58,
   "metadata": {},
   "outputs": [
    {
     "name": "stdout",
     "output_type": "stream",
     "text": [
      "apple\n",
      "banana\n",
      "cherry\n"
     ]
    }
   ],
   "source": [
    "fruits = [\"apple\", \"banana\", \"cherry\"]\n",
    "\n",
    "for fruit in fruits:\n",
    "    print(fruit)"
   ]
  },
  {
   "cell_type": "markdown",
   "metadata": {},
   "source": [
    "Example with a Range:"
   ]
  },
  {
   "cell_type": "code",
   "execution_count": 59,
   "metadata": {},
   "outputs": [
    {
     "name": "stdout",
     "output_type": "stream",
     "text": [
      "0\n",
      "1\n",
      "2\n",
      "3\n",
      "4\n"
     ]
    }
   ],
   "source": [
    "for i in range(5):\n",
    "    print(i)"
   ]
  },
  {
   "cell_type": "markdown",
   "metadata": {},
   "source": [
    "* `while` Loop\n",
    "\n",
    "The `while` loop continues to execute a block of code as long as a specified condition is true:"
   ]
  },
  {
   "cell_type": "code",
   "execution_count": 60,
   "metadata": {},
   "outputs": [
    {
     "name": "stdout",
     "output_type": "stream",
     "text": [
      "0\n",
      "1\n",
      "2\n",
      "3\n",
      "4\n"
     ]
    }
   ],
   "source": [
    "count = 0\n",
    "\n",
    "while count < 5:\n",
    "    print(count)\n",
    "    count += 1"
   ]
  },
  {
   "cell_type": "markdown",
   "metadata": {},
   "source": [
    "* Loop Control Statements\n",
    "\n",
    "1. `break` Statement\n",
    "\n",
    "The `break` statement is used to exit the loop prematurely, regardless of whether the loop condition is true or false:"
   ]
  },
  {
   "cell_type": "code",
   "execution_count": 61,
   "metadata": {},
   "outputs": [
    {
     "name": "stdout",
     "output_type": "stream",
     "text": [
      "0\n",
      "1\n",
      "2\n",
      "3\n",
      "4\n"
     ]
    }
   ],
   "source": [
    "for number in range(10):\n",
    "    if number == 5:\n",
    "        break\n",
    "    print(number)"
   ]
  },
  {
   "cell_type": "markdown",
   "metadata": {},
   "source": [
    "2. `continue` Statement\n",
    "\n",
    "The `continue` statement is used to skip the rest of the code inside the loop for the current iteration and move to the next iteration:"
   ]
  },
  {
   "cell_type": "code",
   "execution_count": 62,
   "metadata": {},
   "outputs": [
    {
     "name": "stdout",
     "output_type": "stream",
     "text": [
      "1\n",
      "3\n",
      "5\n",
      "7\n",
      "9\n"
     ]
    }
   ],
   "source": [
    "for number in range(10):\n",
    "    if number % 2 == 0:\n",
    "        continue\n",
    "    print(number)"
   ]
  },
  {
   "cell_type": "markdown",
   "metadata": {},
   "source": [
    "3. `else` Clause in Loops\n",
    "\n",
    "Python allows an `else` clause to be associated with a loop. The `else` block is executed when the loop condition becomes false:"
   ]
  },
  {
   "cell_type": "code",
   "execution_count": 63,
   "metadata": {},
   "outputs": [
    {
     "name": "stdout",
     "output_type": "stream",
     "text": [
      "0\n",
      "1\n",
      "2\n",
      "3\n",
      "4\n",
      "Loop completed without a break\n"
     ]
    }
   ],
   "source": [
    "for i in range(5):\n",
    "    print(i)\n",
    "else:\n",
    "    print(\"Loop completed without a break\")"
   ]
  },
  {
   "cell_type": "markdown",
   "metadata": {},
   "source": [
    "* Nested Loops\n",
    "\n",
    "You can have loops inside loops, known as nested loops:"
   ]
  },
  {
   "cell_type": "code",
   "execution_count": 64,
   "metadata": {},
   "outputs": [
    {
     "name": "stdout",
     "output_type": "stream",
     "text": [
      "(0, 0)\n",
      "(0, 1)\n",
      "(1, 0)\n",
      "(1, 1)\n",
      "(2, 0)\n",
      "(2, 1)\n"
     ]
    }
   ],
   "source": [
    "for i in range(3):\n",
    "    for j in range(2):\n",
    "        print(f\"({i}, {j})\")"
   ]
  },
  {
   "cell_type": "markdown",
   "metadata": {},
   "source": [
    "* Iterating Over Dictionaries\n",
    "\n",
    "You can use the `items()` method to iterate over key-value pairs in a dictionary:"
   ]
  },
  {
   "cell_type": "code",
   "execution_count": 65,
   "metadata": {},
   "outputs": [
    {
     "name": "stdout",
     "output_type": "stream",
     "text": [
      "name: Alice\n",
      "age: 30\n",
      "city: Wonderland\n"
     ]
    }
   ],
   "source": [
    "person = {\"name\": \"Alice\", \"age\": 30, \"city\": \"Wonderland\"}\n",
    "\n",
    "for key, value in person.items():\n",
    "    print(f\"{key}: {value}\")"
   ]
  },
  {
   "cell_type": "markdown",
   "metadata": {},
   "source": [
    "* `enumerate()` Function\n",
    "\n",
    "The `enumerate()` function is used to iterate over a sequence and keep track of the index:"
   ]
  },
  {
   "cell_type": "code",
   "execution_count": 66,
   "metadata": {},
   "outputs": [
    {
     "name": "stdout",
     "output_type": "stream",
     "text": [
      "Index 0: apple\n",
      "Index 1: banana\n",
      "Index 2: cherry\n"
     ]
    }
   ],
   "source": [
    "fruits = [\"apple\", \"banana\", \"cherry\"]\n",
    "\n",
    "for index, fruit in enumerate(fruits):\n",
    "    print(f\"Index {index}: {fruit}\")"
   ]
  },
  {
   "cell_type": "markdown",
   "metadata": {},
   "source": [
    "Loops are fundamental to programming and are used for a variety of tasks, from iterating over data to implementing control flow in your programs. Understanding how to effectively use loops is key to writing efficient and readable code."
   ]
  },
  {
   "cell_type": "markdown",
   "metadata": {},
   "source": [
    "## What we have learned …\n",
    "\n",
    "| | | | | |\n",
    "| --- | --- | --- | --- | --- |\n",
    "| **Variables** | **Built-in Data Types** | **Printing with Built-in Types** | **Operators** | **Type Casting** |\n",
    "| **String Manipulation** | **List Manipulation** | **Conditional Statements** | **Conditional Statements** | **Loops in Python** |\n",
    "| | | | | |"
   ]
  }
 ],
 "metadata": {
  "kernelspec": {
   "display_name": "Python 3.9.7 64-bit",
   "language": "python",
   "name": "python3"
  },
  "language_info": {
   "codemirror_mode": {
    "name": "ipython",
    "version": 3
   },
   "file_extension": ".py",
   "mimetype": "text/x-python",
   "name": "python",
   "nbconvert_exporter": "python",
   "pygments_lexer": "ipython3",
   "version": "3.9.7"
  },
  "orig_nbformat": 2,
  "vscode": {
   "interpreter": {
    "hash": "8f1e200aa4e9598f1b1017d8bb6526388dc3fae44f5def43455ba665e800f8e8"
   }
  }
 },
 "nbformat": 4,
 "nbformat_minor": 2
}
