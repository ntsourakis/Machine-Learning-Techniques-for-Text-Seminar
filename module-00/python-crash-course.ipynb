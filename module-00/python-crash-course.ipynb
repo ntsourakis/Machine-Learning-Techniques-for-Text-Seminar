{
 "cells": [
  {
   "cell_type": "markdown",
   "metadata": {},
   "source": [
    "# <u>Module 0</u> - Python Crash Course\n",
    "\n",
    "`Python` is a versatile and powerful programming language that has gained immense popularity in the world of software development. Known for its simplicity, readability, and versatility, Python has become one of the go-to languages for both beginners and experienced developers alike."
   ]
  },
  {
   "cell_type": "code",
   "execution_count": 236,
   "metadata": {},
   "outputs": [],
   "source": [
    "import sys\n",
    "import subprocess\n",
    "import pkg_resources\n",
    "\n",
    "# Find out which packages are missing.\n",
    "installed_packages = {dist.key for dist in pkg_resources.working_set}\n",
    "required_packages = {'numpy', 'pandas', 'matplotlib'}\n",
    "missing_packages = required_packages - installed_packages\n",
    "\n",
    "# If there are missing packages install them.\n",
    "if missing_packages:\n",
    "    print('Installing the following packages: ' + str(missing_packages))\n",
    "    python = sys.executable\n",
    "    subprocess.check_call([python, '-m', 'pip', 'install', *missing_packages], stdout=subprocess.DEVNULL)"
   ]
  },
  {
   "cell_type": "markdown",
   "metadata": {},
   "source": [
    "## Why Python?\n",
    "\n",
    "One of the key reasons behind Python's widespread adoption is its clear and concise syntax, which emphasizes readability and reduces the cost of program maintenance. This makes Python an excellent choice for individuals entering the world of programming, as it allows them to focus on problem-solving rather than getting bogged down by complex syntax.\n",
    "\n",
    "Moreover, Python has a vast and active community of developers who contribute to its extensive collection of libraries and frameworks. This rich ecosystem enables developers to easily access pre-built modules, saving time and effort in the development process."
   ]
  },
  {
   "cell_type": "markdown",
   "metadata": {},
   "source": [
    "<hr/>"
   ]
  },
  {
   "cell_type": "markdown",
   "metadata": {},
   "source": [
    "## Applications of Python\n",
    "\n",
    "Python finds applications in a wide range of fields, including web development, data science, artificial intelligence, machine learning, automation, and more. The language's versatility makes it suitable for various domains, and its ease of integration with other languages and tools further enhances its appeal.\n",
    "\n",
    "Whether you are a beginner learning to code or an experienced developer looking to build complex applications, Python provides the tools and resources needed to accomplish your goals. Its versatility, coupled with an extensive community and robust ecosystem, positions Python as a top choice for individuals and organizations seeking a reliable and efficient programming language."
   ]
  },
  {
   "cell_type": "markdown",
   "metadata": {},
   "source": [
    "<hr/>"
   ]
  },
  {
   "cell_type": "markdown",
   "metadata": {},
   "source": [
    "## Variables\n",
    "\n",
    "In Python, a variable is a named location in the computer's memory that stores a value. Think of it as a container or a label that you can use to refer to a specific piece of data. Unlike some other programming languages, Python does not require explicit declaration of the variable type. You can simply assign a value to a variable, and Python will determine its type dynamically.\n",
    "\n",
    "In the above below, we assign different types of values to variables (`int`, `str`, `float`, and `bool`). The variable names (`age`, `name`, `pi_value`, and `is_student`) are user-defined, and they can be chosen according to the context of your program."
   ]
  },
  {
   "cell_type": "code",
   "execution_count": 237,
   "metadata": {},
   "outputs": [],
   "source": [
    "# Example of variable assignment.\n",
    "age = 25\n",
    "name = \"John Doe\"\n",
    "pi_value = 3.14\n",
    "is_student = True"
   ]
  },
  {
   "cell_type": "markdown",
   "metadata": {},
   "source": [
    "<hr/>"
   ]
  },
  {
   "cell_type": "markdown",
   "metadata": {},
   "source": [
    "## Built-in Data Types\n",
    "\n",
    "Python comes with several built-in data types that define the nature of a variable. Here are some common ones:\n",
    "\n",
    "`int`: Integer type for whole numbers."
   ]
  },
  {
   "cell_type": "code",
   "execution_count": 238,
   "metadata": {},
   "outputs": [],
   "source": [
    "age = 25"
   ]
  },
  {
   "cell_type": "markdown",
   "metadata": {},
   "source": [
    "`float`: Floating-point type for decimal numbers."
   ]
  },
  {
   "cell_type": "code",
   "execution_count": 239,
   "metadata": {},
   "outputs": [],
   "source": [
    "pi_value = 3.14"
   ]
  },
  {
   "cell_type": "markdown",
   "metadata": {},
   "source": [
    "`str`: String type for text."
   ]
  },
  {
   "cell_type": "code",
   "execution_count": 240,
   "metadata": {},
   "outputs": [],
   "source": [
    "name = \"John Doe\""
   ]
  },
  {
   "cell_type": "markdown",
   "metadata": {},
   "source": [
    "`bool`: Boolean type for representing truth values (True or False)."
   ]
  },
  {
   "cell_type": "code",
   "execution_count": 241,
   "metadata": {},
   "outputs": [],
   "source": [
    "is_student = True"
   ]
  },
  {
   "cell_type": "markdown",
   "metadata": {},
   "source": [
    "`list`: Ordered collection of items."
   ]
  },
  {
   "cell_type": "code",
   "execution_count": 242,
   "metadata": {},
   "outputs": [],
   "source": [
    "numbers = [1, 2, 3, 4, 5]"
   ]
  },
  {
   "cell_type": "markdown",
   "metadata": {},
   "source": [
    "`tuple`: Immutable ordered collection of items."
   ]
  },
  {
   "cell_type": "code",
   "execution_count": 243,
   "metadata": {},
   "outputs": [],
   "source": [
    "coordinates = (4, 7)"
   ]
  },
  {
   "cell_type": "markdown",
   "metadata": {},
   "source": [
    "`dict`: Dictionary type for key-value pairs."
   ]
  },
  {
   "cell_type": "code",
   "execution_count": 244,
   "metadata": {},
   "outputs": [],
   "source": [
    "person_info = {'name': 'John', 'age': 25, 'is_student': True}"
   ]
  },
  {
   "cell_type": "markdown",
   "metadata": {},
   "source": [
    "`set`: A collection of unique elements with no duplicate values."
   ]
  },
  {
   "cell_type": "code",
   "execution_count": 245,
   "metadata": {},
   "outputs": [],
   "source": [
    "number_set = {1, 2, 3, 4, 5}"
   ]
  },
  {
   "cell_type": "markdown",
   "metadata": {},
   "source": [
    "Understanding these built-in data types is essential for effective programming in Python, as they provide the foundation for manipulating and organizing data in your programs. As you become more familiar with Python, you'll discover additional data types and structures that enhance the language's flexibility and expressiveness."
   ]
  },
  {
   "cell_type": "markdown",
   "metadata": {},
   "source": [
    "<hr/>"
   ]
  },
  {
   "cell_type": "markdown",
   "metadata": {},
   "source": [
    "## Printing with Built-in Types\n",
    "\n",
    "In Python, the `print()` function is a versatile tool for displaying information. It allows you to output data of various types to the console. Let's explore different ways to use the `print()` statement with built-in types.\n",
    "\n",
    "### 1. Printing Variables\n",
    "\n",
    "You can directly print the value of a variable using the `print()` function:"
   ]
  },
  {
   "cell_type": "code",
   "execution_count": 246,
   "metadata": {},
   "outputs": [
    {
     "name": "stdout",
     "output_type": "stream",
     "text": [
      "John\n",
      "30\n"
     ]
    }
   ],
   "source": [
    "name = \"John\"\n",
    "age = 30\n",
    "print(name)  # Output: John\n",
    "print(age)   # Output: 30"
   ]
  },
  {
   "cell_type": "markdown",
   "metadata": {},
   "source": [
    "### 2. Concatenation in Print\n",
    "\n",
    "Concatenate multiple values within the `print()` function using the `+` operator:"
   ]
  },
  {
   "cell_type": "code",
   "execution_count": 247,
   "metadata": {},
   "outputs": [
    {
     "name": "stdout",
     "output_type": "stream",
     "text": [
      "Name: John, Age: 30\n"
     ]
    }
   ],
   "source": [
    "name = \"John\"\n",
    "age = 30\n",
    "print(\"Name:\", name + \", Age:\", age)  # Output: Name: John, Age: 30"
   ]
  },
  {
   "cell_type": "markdown",
   "metadata": {},
   "source": [
    "### 3. Formatting Strings\n",
    "\n",
    "Use string formatting to embed variables within a string:"
   ]
  },
  {
   "cell_type": "code",
   "execution_count": 248,
   "metadata": {},
   "outputs": [
    {
     "name": "stdout",
     "output_type": "stream",
     "text": [
      "Name: John, Age: 30\n"
     ]
    }
   ],
   "source": [
    "name = \"John\"\n",
    "age = 30\n",
    "print(\"Name: {}, Age: {}\".format(name, age))  # Output: Name: John, Age: 30"
   ]
  },
  {
   "cell_type": "markdown",
   "metadata": {},
   "source": [
    "Or, using f-strings (formatted string literals):"
   ]
  },
  {
   "cell_type": "code",
   "execution_count": 249,
   "metadata": {},
   "outputs": [
    {
     "name": "stdout",
     "output_type": "stream",
     "text": [
      "Name: John, Age: 30\n"
     ]
    }
   ],
   "source": [
    "name = \"John\"\n",
    "age = 30\n",
    "print(f\"Name: {name}, Age: {age}\")  # Output: Name: John, Age: 30"
   ]
  },
  {
   "cell_type": "markdown",
   "metadata": {},
   "source": [
    "### 4. Printing Multiple Values\n",
    "Print multiple values using commas within the `print()` function:"
   ]
  },
  {
   "cell_type": "code",
   "execution_count": 250,
   "metadata": {},
   "outputs": [
    {
     "name": "stdout",
     "output_type": "stream",
     "text": [
      "Name: John Age: 30\n"
     ]
    }
   ],
   "source": [
    "name = \"John\"\n",
    "age = 30\n",
    "print(\"Name:\", name, \"Age:\", age)  # Output: Name: John Age: 30"
   ]
  },
  {
   "cell_type": "markdown",
   "metadata": {},
   "source": [
    "### 5. Printing with Separator\n",
    "Specify a separator between values using the `sep` parameter:"
   ]
  },
  {
   "cell_type": "code",
   "execution_count": 251,
   "metadata": {},
   "outputs": [
    {
     "name": "stdout",
     "output_type": "stream",
     "text": [
      "John | 30\n"
     ]
    }
   ],
   "source": [
    "name = \"John\"\n",
    "age = 30\n",
    "print(name, age, sep=\" | \")  # Output: John | 30"
   ]
  },
  {
   "cell_type": "markdown",
   "metadata": {},
   "source": [
    "### 6. Printing with End\n",
    "Control the end character with the `end` parameter:"
   ]
  },
  {
   "cell_type": "code",
   "execution_count": 252,
   "metadata": {},
   "outputs": [
    {
     "name": "stdout",
     "output_type": "stream",
     "text": [
      "Name: John | Age: 30\n"
     ]
    }
   ],
   "source": [
    "name = \"John\"\n",
    "age = 30\n",
    "print(\"Name:\", name, end=\" | \")\n",
    "print(\"Age:\", age)  # Output: Name: John | Age: 30"
   ]
  },
  {
   "cell_type": "markdown",
   "metadata": {},
   "source": [
    "Now, try the following and reflect on the output:"
   ]
  },
  {
   "cell_type": "code",
   "execution_count": 253,
   "metadata": {},
   "outputs": [
    {
     "name": "stdout",
     "output_type": "stream",
     "text": [
      "5\n",
      "5\n",
      "10\n",
      "5 + 5\n",
      "55\n",
      "10\n",
      "55\n"
     ]
    }
   ],
   "source": [
    "print(5)\n",
    "print(\"5\")\n",
    "print(5 + 5)\n",
    "print(\"5 + 5\")\n",
    "print(\"5\" + \"5\")\n",
    "print(5*2)\n",
    "print(\"5\"*2)"
   ]
  },
  {
   "cell_type": "markdown",
   "metadata": {},
   "source": [
    "These techniques provide flexibility in formatting and presenting data when using the `print()` statement in Python. Choose the method that best suits your needs for displaying information in your programs."
   ]
  },
  {
   "cell_type": "markdown",
   "metadata": {},
   "source": [
    "<hr/>"
   ]
  },
  {
   "cell_type": "markdown",
   "metadata": {},
   "source": [
    "## Operators in Python\n",
    "\n",
    "Operators in Python are special symbols or keywords that perform operations on operands. Operands can be variables, values, or expressions. Python supports various types of operators, including arithmetic, comparison, logical, assignment, and more. Let's explore some of the commonly used operators in Python.\n",
    "\n",
    "### 1. Arithmetic Operators\n",
    "\n",
    "Arithmetic operators perform basic mathematical operations.\n",
    "\n",
    "* Addition (`+`):"
   ]
  },
  {
   "cell_type": "code",
   "execution_count": 254,
   "metadata": {},
   "outputs": [
    {
     "data": {
      "text/plain": [
       "8"
      ]
     },
     "execution_count": 254,
     "metadata": {},
     "output_type": "execute_result"
    }
   ],
   "source": [
    "result = 5 + 3  # Result: 8\n",
    "result"
   ]
  },
  {
   "cell_type": "markdown",
   "metadata": {},
   "source": [
    "* Subtraction (`-`):"
   ]
  },
  {
   "cell_type": "code",
   "execution_count": 255,
   "metadata": {},
   "outputs": [
    {
     "data": {
      "text/plain": [
       "2"
      ]
     },
     "execution_count": 255,
     "metadata": {},
     "output_type": "execute_result"
    }
   ],
   "source": [
    "result = 5 - 3  # Result: 2\n",
    "result"
   ]
  },
  {
   "cell_type": "markdown",
   "metadata": {},
   "source": [
    "* Multiplication (`*`):"
   ]
  },
  {
   "cell_type": "code",
   "execution_count": 256,
   "metadata": {},
   "outputs": [
    {
     "data": {
      "text/plain": [
       "15"
      ]
     },
     "execution_count": 256,
     "metadata": {},
     "output_type": "execute_result"
    }
   ],
   "source": [
    "result = 5 * 3  # Result: 15\n",
    "result"
   ]
  },
  {
   "cell_type": "markdown",
   "metadata": {},
   "source": [
    "* Division (`/`):"
   ]
  },
  {
   "cell_type": "code",
   "execution_count": 257,
   "metadata": {},
   "outputs": [
    {
     "data": {
      "text/plain": [
       "5.0"
      ]
     },
     "execution_count": 257,
     "metadata": {},
     "output_type": "execute_result"
    }
   ],
   "source": [
    "result = 10 / 2  # Result: 5.0 (float)\n",
    "result"
   ]
  },
  {
   "cell_type": "markdown",
   "metadata": {},
   "source": [
    "* Floor Division (`//`):"
   ]
  },
  {
   "cell_type": "code",
   "execution_count": 258,
   "metadata": {},
   "outputs": [
    {
     "data": {
      "text/plain": [
       "3"
      ]
     },
     "execution_count": 258,
     "metadata": {},
     "output_type": "execute_result"
    }
   ],
   "source": [
    "result = 10 // 3  # Result: 3 (integer, discards the fractional part)\n",
    "result"
   ]
  },
  {
   "cell_type": "markdown",
   "metadata": {},
   "source": [
    "* Modulus (`%`):"
   ]
  },
  {
   "cell_type": "code",
   "execution_count": 259,
   "metadata": {},
   "outputs": [
    {
     "data": {
      "text/plain": [
       "1"
      ]
     },
     "execution_count": 259,
     "metadata": {},
     "output_type": "execute_result"
    }
   ],
   "source": [
    "result = 10 % 3  # Result: 1 (remainder of the division)\n",
    "result"
   ]
  },
  {
   "cell_type": "markdown",
   "metadata": {},
   "source": [
    "* Exponentiation (`**`):"
   ]
  },
  {
   "cell_type": "code",
   "execution_count": 260,
   "metadata": {},
   "outputs": [
    {
     "data": {
      "text/plain": [
       "8"
      ]
     },
     "execution_count": 260,
     "metadata": {},
     "output_type": "execute_result"
    }
   ],
   "source": [
    "result = 2 ** 3  # Result: 8 (2 raised to the power of 3)\n",
    "result"
   ]
  },
  {
   "cell_type": "markdown",
   "metadata": {},
   "source": [
    "### 2. Comparison Operators\n",
    "Comparison operators are used to compare values and return Boolean results.\n",
    "\n",
    "* Equal to (`==`):"
   ]
  },
  {
   "cell_type": "code",
   "execution_count": 261,
   "metadata": {},
   "outputs": [
    {
     "data": {
      "text/plain": [
       "True"
      ]
     },
     "execution_count": 261,
     "metadata": {},
     "output_type": "execute_result"
    }
   ],
   "source": [
    "result = (5 == 5)  # Result: True\n",
    "result"
   ]
  },
  {
   "cell_type": "markdown",
   "metadata": {},
   "source": [
    "* Not equal to (`!=`):"
   ]
  },
  {
   "cell_type": "code",
   "execution_count": 262,
   "metadata": {},
   "outputs": [
    {
     "data": {
      "text/plain": [
       "True"
      ]
     },
     "execution_count": 262,
     "metadata": {},
     "output_type": "execute_result"
    }
   ],
   "source": [
    "result = (5 != 3)  # Result: True\n",
    "result"
   ]
  },
  {
   "cell_type": "markdown",
   "metadata": {},
   "source": [
    "* Greater than (`>`):"
   ]
  },
  {
   "cell_type": "code",
   "execution_count": 263,
   "metadata": {},
   "outputs": [
    {
     "data": {
      "text/plain": [
       "True"
      ]
     },
     "execution_count": 263,
     "metadata": {},
     "output_type": "execute_result"
    }
   ],
   "source": [
    "result = (5 > 3)  # Result: True\n",
    "result"
   ]
  },
  {
   "cell_type": "markdown",
   "metadata": {},
   "source": [
    "* Less than (`<`):"
   ]
  },
  {
   "cell_type": "code",
   "execution_count": 264,
   "metadata": {},
   "outputs": [
    {
     "data": {
      "text/plain": [
       "False"
      ]
     },
     "execution_count": 264,
     "metadata": {},
     "output_type": "execute_result"
    }
   ],
   "source": [
    "result = (5 < 3)  # Result: False\n",
    "result"
   ]
  },
  {
   "cell_type": "markdown",
   "metadata": {},
   "source": [
    "* Greater than or equal to (`>=`):"
   ]
  },
  {
   "cell_type": "code",
   "execution_count": 265,
   "metadata": {},
   "outputs": [
    {
     "data": {
      "text/plain": [
       "True"
      ]
     },
     "execution_count": 265,
     "metadata": {},
     "output_type": "execute_result"
    }
   ],
   "source": [
    "result = (5 >= 5)  # Result: True\n",
    "result"
   ]
  },
  {
   "cell_type": "markdown",
   "metadata": {},
   "source": [
    "* Less than or equal to (`<=`):"
   ]
  },
  {
   "cell_type": "code",
   "execution_count": 266,
   "metadata": {},
   "outputs": [
    {
     "data": {
      "text/plain": [
       "False"
      ]
     },
     "execution_count": 266,
     "metadata": {},
     "output_type": "execute_result"
    }
   ],
   "source": [
    "result = (5 <= 3)  # Result: False\n",
    "result"
   ]
  },
  {
   "cell_type": "markdown",
   "metadata": {},
   "source": [
    "### 3. Logical Operators\n",
    "\n",
    "Logical operators perform logical operations on Boolean values.\n",
    "\n",
    "* Logical AND (`and`):"
   ]
  },
  {
   "cell_type": "code",
   "execution_count": 267,
   "metadata": {},
   "outputs": [
    {
     "data": {
      "text/plain": [
       "False"
      ]
     },
     "execution_count": 267,
     "metadata": {},
     "output_type": "execute_result"
    }
   ],
   "source": [
    "result = (True and False)  # Result: False\n",
    "result"
   ]
  },
  {
   "cell_type": "markdown",
   "metadata": {},
   "source": [
    "* Logical OR (`or`):"
   ]
  },
  {
   "cell_type": "code",
   "execution_count": 268,
   "metadata": {},
   "outputs": [
    {
     "data": {
      "text/plain": [
       "True"
      ]
     },
     "execution_count": 268,
     "metadata": {},
     "output_type": "execute_result"
    }
   ],
   "source": [
    "result = (True or False)  # Result: True\n",
    "result"
   ]
  },
  {
   "cell_type": "markdown",
   "metadata": {},
   "source": [
    "* Logical NOT (`not`):"
   ]
  },
  {
   "cell_type": "code",
   "execution_count": 269,
   "metadata": {},
   "outputs": [
    {
     "data": {
      "text/plain": [
       "False"
      ]
     },
     "execution_count": 269,
     "metadata": {},
     "output_type": "execute_result"
    }
   ],
   "source": [
    "result = not True  # Result: False\n",
    "result"
   ]
  },
  {
   "cell_type": "markdown",
   "metadata": {},
   "source": [
    "These are just a few examples of the many operators available in Python. Understanding and mastering these operators are crucial for effective programming, allowing you to manipulate and compare values in your code efficiently."
   ]
  },
  {
   "cell_type": "markdown",
   "metadata": {},
   "source": [
    "<hr/>"
   ]
  },
  {
   "cell_type": "markdown",
   "metadata": {},
   "source": [
    "## Type Casting\n",
    "\n",
    "`Type casting`, also known as type conversion, refers to the process of converting one data type into another. Python provides built-in functions for type casting, allowing you to change the type of a variable or value as needed. Here are some common type casting functions in Python:\n",
    "\n",
    "### 1. `int()`\n",
    "Converts a value to an integer."
   ]
  },
  {
   "cell_type": "code",
   "execution_count": 270,
   "metadata": {},
   "outputs": [
    {
     "name": "stdout",
     "output_type": "stream",
     "text": [
      "3\n"
     ]
    }
   ],
   "source": [
    "float_number = 3.14\n",
    "integer_number = int(float_number)\n",
    "print(integer_number)  # Output: 3"
   ]
  },
  {
   "cell_type": "markdown",
   "metadata": {},
   "source": [
    "### 2. `float()`\n",
    "Converts a value to a floating-point number."
   ]
  },
  {
   "cell_type": "code",
   "execution_count": 271,
   "metadata": {},
   "outputs": [
    {
     "name": "stdout",
     "output_type": "stream",
     "text": [
      "5.0\n"
     ]
    }
   ],
   "source": [
    "int_number = 5\n",
    "float_number = float(int_number)\n",
    "print(float_number)  # Output: 5.0"
   ]
  },
  {
   "cell_type": "markdown",
   "metadata": {},
   "source": [
    "### 3. `str()`\n",
    "Converts a value to a string."
   ]
  },
  {
   "cell_type": "code",
   "execution_count": 272,
   "metadata": {},
   "outputs": [
    {
     "name": "stdout",
     "output_type": "stream",
     "text": [
      "123\n"
     ]
    }
   ],
   "source": [
    "number = 123\n",
    "str_number = str(number)\n",
    "print(str_number)  # Output: '123'"
   ]
  },
  {
   "cell_type": "markdown",
   "metadata": {},
   "source": [
    "### 4. `bool()`\n",
    "Converts a value to a boolean."
   ]
  },
  {
   "cell_type": "code",
   "execution_count": 273,
   "metadata": {},
   "outputs": [
    {
     "name": "stdout",
     "output_type": "stream",
     "text": [
      "True\n"
     ]
    }
   ],
   "source": [
    "non_zero_number = 42\n",
    "is_true = bool(non_zero_number)\n",
    "print(is_true)  # Output: True"
   ]
  },
  {
   "cell_type": "markdown",
   "metadata": {},
   "source": [
    "### 5. `list()`, `tuple()`, `set()`\n",
    "Converts a sequence (like a string or list) to a list, tuple, or set, respectively."
   ]
  },
  {
   "cell_type": "code",
   "execution_count": 274,
   "metadata": {},
   "outputs": [
    {
     "name": "stdout",
     "output_type": "stream",
     "text": [
      "['P', 'y', 't', 'h', 'o', 'n']\n",
      "('P', 'y', 't', 'h', 'o', 'n')\n",
      "{'n', 'y', 'o', 't', 'h', 'P'}\n"
     ]
    }
   ],
   "source": [
    "text = \"Python\"\n",
    "list_text = list(text)\n",
    "tuple_text = tuple(text)\n",
    "set_text = set(text)\n",
    "\n",
    "print(list_text)  # Output: ['P', 'y', 't', 'h', 'o', 'n']\n",
    "print(tuple_text)  # Output: ('P', 'y', 't', 'h', 'o', 'n')\n",
    "print(set_text)  # Output: {'P', 'y', 't', 'h', 'o', 'n'}"
   ]
  },
  {
   "cell_type": "markdown",
   "metadata": {},
   "source": [
    "### 6. `dict()`\n",
    "Converts a sequence of key-value pairs to a dictionary."
   ]
  },
  {
   "cell_type": "code",
   "execution_count": 275,
   "metadata": {},
   "outputs": [
    {
     "name": "stdout",
     "output_type": "stream",
     "text": [
      "{'a': 1, 'b': 2, 'c': 3}\n"
     ]
    }
   ],
   "source": [
    "pairs = [('a', 1), ('b', 2), ('c', 3)]\n",
    "dictionary = dict(pairs)\n",
    "print(dictionary)  # Output: {'a': 1, 'b': 2, 'c': 3}"
   ]
  },
  {
   "cell_type": "markdown",
   "metadata": {},
   "source": [
    "### 7. `complex()`\n",
    "Converts a real number to a complex number."
   ]
  },
  {
   "cell_type": "code",
   "execution_count": 276,
   "metadata": {},
   "outputs": [
    {
     "name": "stdout",
     "output_type": "stream",
     "text": [
      "(2+0j)\n"
     ]
    }
   ],
   "source": [
    "real_number = 2\n",
    "complex_number = complex(real_number)\n",
    "print(complex_number)  # Output: (2+0j)"
   ]
  },
  {
   "cell_type": "markdown",
   "metadata": {},
   "source": [
    "What is the result of the following?"
   ]
  },
  {
   "cell_type": "code",
   "execution_count": 277,
   "metadata": {},
   "outputs": [],
   "source": [
    "result = int(float(\"3.2\"))"
   ]
  },
  {
   "cell_type": "markdown",
   "metadata": {},
   "source": [
    "Type casting is a valuable tool in Python, allowing you to ensure compatibility between different data types and perform operations that require consistent types. However, it's essential to be aware of potential data loss or unexpected behavior when converting between certain types, especially when precision may be affected, as in the case of converting from a float to an int."
   ]
  },
  {
   "cell_type": "markdown",
   "metadata": {},
   "source": [
    "<hr/>"
   ]
  },
  {
   "cell_type": "markdown",
   "metadata": {},
   "source": [
    "## String Manipulation\n",
    "\n",
    "String manipulation is a fundamental aspect of programming, and Python provides a rich set of tools for working with strings. Here are some common techniques and methods for string manipulation:\n",
    "\n",
    "### 1. Concatenation \n",
    "\n",
    "Concatenation is the process of combining strings. You can use the `+` operator to concatenate two or more strings:"
   ]
  },
  {
   "cell_type": "code",
   "execution_count": 278,
   "metadata": {},
   "outputs": [
    {
     "name": "stdout",
     "output_type": "stream",
     "text": [
      "John Doe\n"
     ]
    }
   ],
   "source": [
    "first_name = \"John\"\n",
    "last_name = \"Doe\"\n",
    "full_name = first_name + \" \" + last_name\n",
    "print(full_name)  # Output: John Doe"
   ]
  },
  {
   "cell_type": "markdown",
   "metadata": {},
   "source": [
    "### 2. String Interpolation \n",
    "\n",
    "String Interpolation allows you to embed variables within a string. There are multiple ways to achieve this, such as using the `%` operator or the `.format()` method:"
   ]
  },
  {
   "cell_type": "code",
   "execution_count": 279,
   "metadata": {},
   "outputs": [
    {
     "name": "stdout",
     "output_type": "stream",
     "text": [
      "Hello, Alice! You are 28 years old.\n"
     ]
    }
   ],
   "source": [
    "name = \"Alice\"\n",
    "age = 28\n",
    "\n",
    "# Using % operator.\n",
    "message = \"Hello, %s! You are %d years old.\" % (name, age)\n",
    "\n",
    "# Using .format() method.\n",
    "message = \"Hello, {}! You are {} years old.\".format(name, age)\n",
    "\n",
    "print(message)\n",
    "# Output: Hello, Alice! You are 28 years old."
   ]
  },
  {
   "cell_type": "markdown",
   "metadata": {},
   "source": [
    "In Python 3.6 and later, you can use f-strings for a more concise and readable syntax:"
   ]
  },
  {
   "cell_type": "code",
   "execution_count": 280,
   "metadata": {},
   "outputs": [],
   "source": [
    "message = f\"Hello, {name}! You are {age} years old.\""
   ]
  },
  {
   "cell_type": "markdown",
   "metadata": {},
   "source": [
    "### 3. String Slicing\n",
    "\n",
    "You can extract substrings from a string using slicing. The syntax is `string[start:stop]`, where `start` is the index of the starting character, and `stop` is the index of the character just after the end of the desired substring:"
   ]
  },
  {
   "cell_type": "code",
   "execution_count": 281,
   "metadata": {},
   "outputs": [
    {
     "name": "stdout",
     "output_type": "stream",
     "text": [
      "Python\n"
     ]
    }
   ],
   "source": [
    "sentence = \"Python is a powerful programming language.\"\n",
    "\n",
    "# Extracting a substring.\n",
    "substring = sentence[0:6]\n",
    "print(substring)  # Output: Python"
   ]
  },
  {
   "cell_type": "markdown",
   "metadata": {},
   "source": [
    "### 4. String Methods\n",
    "\n",
    "Python provides a variety of built-in string methods for manipulation, including:\n",
    "\n",
    "* `len()`: Returns the length of a string.\n",
    "\n",
    "* `lower()`, `upper()`: Converts a string to lowercase or uppercase.\n",
    "\n",
    "* `strip()`: Removes leading and trailing whitespaces.\n",
    "\n",
    "* `replace()`: Replaces a substring with another substring."
   ]
  },
  {
   "cell_type": "code",
   "execution_count": 282,
   "metadata": {},
   "outputs": [
    {
     "name": "stdout",
     "output_type": "stream",
     "text": [
      "24\n",
      "   python programming   \n",
      "Python Programming\n",
      "   Jython Jrogramming   \n"
     ]
    }
   ],
   "source": [
    "text = \"   Python Programming   \"\n",
    "print(len(text))           # Output: 24\n",
    "print(text.lower())        # Output: python programming\n",
    "print(text.strip())        # Output: Python Programming\n",
    "print(text.replace('P', 'J'))  # Output:   Jython Jrogramming   "
   ]
  },
  {
   "cell_type": "markdown",
   "metadata": {},
   "source": [
    "### 5. String Splitting and Joining\n",
    "\n",
    "Use the `split()` method to split a string into a list of substrings based on a delimiter. Conversely, the `join()` method joins a list of strings into a single string:"
   ]
  },
  {
   "cell_type": "code",
   "execution_count": 283,
   "metadata": {},
   "outputs": [
    {
     "name": "stdout",
     "output_type": "stream",
     "text": [
      "['apple', 'orange', 'banana', 'grape']\n",
      "apple-orange-banana-grape\n"
     ]
    }
   ],
   "source": [
    "csv_data = \"apple,orange,banana,grape\"\n",
    "fruits_list = csv_data.split(',')\n",
    "print(fruits_list)  # Output: ['apple', 'orange', 'banana', 'grape']\n",
    "\n",
    "# Joining the list into a string\n",
    "joined_string = '-'.join(fruits_list)\n",
    "print(joined_string)  # Output: apple-orange-banana-grape"
   ]
  },
  {
   "cell_type": "markdown",
   "metadata": {},
   "source": [
    "### 6. Checking and Formatting\n",
    "\n",
    "* `startswith()`, `endswith()`: Check if a string starts or ends with a specific substring.\n",
    "\n",
    "* `in` keyword: Check if a substring is present in a string.\n",
    "\n",
    "* `format()` method: Format strings with placeholders."
   ]
  },
  {
   "cell_type": "code",
   "execution_count": 284,
   "metadata": {},
   "outputs": [
    {
     "name": "stdout",
     "output_type": "stream",
     "text": [
      "True\n",
      "True\n",
      "Name: Alice, Age: 30\n"
     ]
    }
   ],
   "source": [
    "email = \"user@example.com\"\n",
    "print(email.startswith(\"user\"))  # Output: True\n",
    "print(\"@\" in email)              # Output: True\n",
    "\n",
    "# String formatting\n",
    "name = \"Alice\"\n",
    "age = 30\n",
    "formatted_string = \"Name: {}, Age: {}\".format(name, age)\n",
    "print(formatted_string)\n",
    "# Output: Name: Alice, Age: 30"
   ]
  },
  {
   "cell_type": "markdown",
   "metadata": {},
   "source": [
    "Understanding these string manipulation techniques will empower you to effectively work with text data in Python, whether you're processing user inputs, parsing files, or formatting output."
   ]
  },
  {
   "cell_type": "markdown",
   "metadata": {},
   "source": [
    "<hr/>"
   ]
  },
  {
   "cell_type": "markdown",
   "metadata": {},
   "source": [
    "## List Manipulation\n",
    "\n",
    "Lists are a versatile and widely used data structure in Python, providing dynamic arrays to store and manipulate collections of items. Here are some common techniques and methods for list manipulation:\n",
    "\n",
    "### 1. Creating Lists\n",
    "\n",
    "You can create lists by enclosing items in square brackets `[]`:"
   ]
  },
  {
   "cell_type": "code",
   "execution_count": 285,
   "metadata": {},
   "outputs": [],
   "source": [
    "numbers = [1, 2, 3, 4, 5]\n",
    "fruits = [\"apple\", \"orange\", \"banana\", \"grape\"]"
   ]
  },
  {
   "cell_type": "markdown",
   "metadata": {},
   "source": [
    "### 2. Accessing Elements\n",
    "\n",
    "Access elements in a list using indexing. Remember that Python uses 0-based indexing:"
   ]
  },
  {
   "cell_type": "code",
   "execution_count": 286,
   "metadata": {},
   "outputs": [
    {
     "name": "stdout",
     "output_type": "stream",
     "text": [
      "1\n"
     ]
    }
   ],
   "source": [
    "first_number = numbers[0]  # Access the first element\n",
    "print(first_number)        # Output: 1"
   ]
  },
  {
   "cell_type": "markdown",
   "metadata": {},
   "source": [
    "### 3. Slicing Lists\n",
    "\n",
    "Slice a list to extract a subset of elements:"
   ]
  },
  {
   "cell_type": "code",
   "execution_count": 287,
   "metadata": {},
   "outputs": [
    {
     "name": "stdout",
     "output_type": "stream",
     "text": [
      "[2, 3, 4]\n"
     ]
    }
   ],
   "source": [
    "subset = numbers[1:4]  # Elements at index 1, 2, 3\n",
    "print(subset)          # Output: [2, 3, 4]"
   ]
  },
  {
   "cell_type": "markdown",
   "metadata": {},
   "source": [
    "### 4. Modifying Lists\n",
    "\n",
    "Lists are mutable, meaning you can modify them after creation.\n",
    "\n",
    "* Appending Elements:"
   ]
  },
  {
   "cell_type": "code",
   "execution_count": 288,
   "metadata": {},
   "outputs": [
    {
     "name": "stdout",
     "output_type": "stream",
     "text": [
      "['apple', 'orange', 'banana', 'grape', 'kiwi']\n"
     ]
    }
   ],
   "source": [
    "fruits.append(\"kiwi\")  # Append \"kiwi\" to the end\n",
    "print(fruits)          # Output: ['apple', 'orange', 'banana', 'grape', 'kiwi']"
   ]
  },
  {
   "cell_type": "markdown",
   "metadata": {},
   "source": [
    "* Inserting Elements:"
   ]
  },
  {
   "cell_type": "code",
   "execution_count": 289,
   "metadata": {},
   "outputs": [
    {
     "name": "stdout",
     "output_type": "stream",
     "text": [
      "['apple', 'orange', 'pear', 'banana', 'grape', 'kiwi']\n"
     ]
    }
   ],
   "source": [
    "fruits.insert(2, \"pear\")  # Insert \"pear\" at index 2\n",
    "print(fruits)             # Output: ['apple', 'orange', 'pear', 'banana', 'grape', 'kiwi']"
   ]
  },
  {
   "cell_type": "markdown",
   "metadata": {},
   "source": [
    "* Removing Elements:"
   ]
  },
  {
   "cell_type": "code",
   "execution_count": 290,
   "metadata": {},
   "outputs": [
    {
     "name": "stdout",
     "output_type": "stream",
     "text": [
      "['apple', 'pear', 'banana', 'grape', 'kiwi']\n"
     ]
    }
   ],
   "source": [
    "fruits.remove(\"orange\")  # Remove the first occurrence of \"orange\"\n",
    "print(fruits)            # Output: ['apple', 'pear', 'banana', 'grape', 'kiwi']"
   ]
  },
  {
   "cell_type": "markdown",
   "metadata": {},
   "source": [
    "* Pop and Delete:"
   ]
  },
  {
   "cell_type": "code",
   "execution_count": 291,
   "metadata": {},
   "outputs": [
    {
     "name": "stdout",
     "output_type": "stream",
     "text": [
      "pear ['banana', 'grape', 'kiwi']\n"
     ]
    }
   ],
   "source": [
    "popped_item = fruits.pop(1)  # Remove and return the element at index 1\n",
    "del fruits[0]                # Delete the element at index 0\n",
    "print(popped_item, fruits)   # Output: pear ['banana', 'grape', 'kiwi']"
   ]
  },
  {
   "cell_type": "markdown",
   "metadata": {},
   "source": [
    "### 5. List Concatenation and Repetition\n",
    "\n",
    "Combine lists using concatenation (`+`) or repeat a list using repetition (`*`):"
   ]
  },
  {
   "cell_type": "code",
   "execution_count": 292,
   "metadata": {},
   "outputs": [
    {
     "name": "stdout",
     "output_type": "stream",
     "text": [
      "[1, 2, 3, 4, 5, 'banana', 'grape', 'kiwi']\n",
      "[1, 2, 3, 4, 5, 1, 2, 3, 4, 5, 1, 2, 3, 4, 5]\n"
     ]
    }
   ],
   "source": [
    "combined_list = numbers + fruits\n",
    "repeated_list = numbers * 3\n",
    "print(combined_list)\n",
    "# Output: [1, 2, 3, 4, 5, 'apple', 'orange', 'banana', 'grape', 'kiwi']\n",
    "print(repeated_list)\n",
    "# Output: [1, 2, 3, 4, 5, 1, 2, 3, 4, 5, 1, 2, 3, 4, 5]"
   ]
  },
  {
   "cell_type": "markdown",
   "metadata": {},
   "source": [
    "### 6. List Comprehension\n",
    "\n",
    "List comprehensions provide a concise way to create lists:"
   ]
  },
  {
   "cell_type": "code",
   "execution_count": 293,
   "metadata": {},
   "outputs": [
    {
     "name": "stdout",
     "output_type": "stream",
     "text": [
      "[1, 4, 9, 16, 25]\n"
     ]
    }
   ],
   "source": [
    "squared_numbers = [x ** 2 for x in numbers]\n",
    "print(squared_numbers)  # Output: [1, 4, 9, 16, 25]"
   ]
  },
  {
   "cell_type": "markdown",
   "metadata": {},
   "source": [
    "### 7. Sorting and Reversing Lists\n",
    "\n",
    "Sort a list in ascending or descending order, or reverse the order:"
   ]
  },
  {
   "cell_type": "code",
   "execution_count": 294,
   "metadata": {},
   "outputs": [
    {
     "name": "stdout",
     "output_type": "stream",
     "text": [
      "[1, 2, 3, 4, 5]\n",
      "['kiwi', 'grape', 'banana']\n"
     ]
    }
   ],
   "source": [
    "numbers.sort()        # Sort in ascending order\n",
    "fruits.sort(reverse=True)  # Sort in descending order\n",
    "print(numbers)        # Output: [1, 2, 3, 4, 5]\n",
    "print(fruits)         # Output: ['kiwi', 'grape', 'banana', 'apple']"
   ]
  },
  {
   "cell_type": "markdown",
   "metadata": {},
   "source": [
    "### 8. List Membership and Count\n",
    "\n",
    "Check if an item is present in a list using the in keyword, and count occurrences with the `count()` method:"
   ]
  },
  {
   "cell_type": "code",
   "execution_count": 295,
   "metadata": {},
   "outputs": [
    {
     "name": "stdout",
     "output_type": "stream",
     "text": [
      "True\n",
      "1\n"
     ]
    }
   ],
   "source": [
    "print(\"kiwi\" in fruits)      # Output: True\n",
    "print(numbers.count(3))       # Output: 1"
   ]
  },
  {
   "cell_type": "markdown",
   "metadata": {},
   "source": [
    "Understanding these list manipulation techniques will enhance your ability to work with dynamic collections of data in Python, whether you're dealing with numerical data, text data, or a combination of both."
   ]
  },
  {
   "cell_type": "markdown",
   "metadata": {},
   "source": [
    "<hr/>"
   ]
  },
  {
   "cell_type": "markdown",
   "metadata": {},
   "source": [
    "## Conditional Statements\n",
    "\n",
    "Conditional statements allow you to control the flow of your program based on specific conditions. In Python, you can use the `if`, `elif` (else if), and `else` statements for this purpose.\n",
    "### 1. `if` Statement\n",
    "\n",
    "The `if` statement checks a condition, and if it is true, the indented block of code beneath it is executed:"
   ]
  },
  {
   "cell_type": "code",
   "execution_count": 296,
   "metadata": {},
   "outputs": [
    {
     "name": "stdout",
     "output_type": "stream",
     "text": [
      "x is greater than 5\n"
     ]
    }
   ],
   "source": [
    "x = 10\n",
    "\n",
    "if x > 5:\n",
    "    print(\"x is greater than 5\")"
   ]
  },
  {
   "cell_type": "markdown",
   "metadata": {},
   "source": [
    "### 2. `if`-`else` Statement\n",
    "\n",
    "The `if`-`else` statement adds an alternative block of code to execute when the condition is false:"
   ]
  },
  {
   "cell_type": "code",
   "execution_count": 297,
   "metadata": {},
   "outputs": [
    {
     "name": "stdout",
     "output_type": "stream",
     "text": [
      "x is not greater than 5\n"
     ]
    }
   ],
   "source": [
    "x = 3\n",
    "\n",
    "if x > 5:\n",
    "    print(\"x is greater than 5\")\n",
    "else:\n",
    "    print(\"x is not greater than 5\")"
   ]
  },
  {
   "cell_type": "markdown",
   "metadata": {},
   "source": [
    "### 3. `if`-`elif`-`else` Statement\n",
    "\n",
    "The `if`-`elif`-`else` statement allows you to check multiple conditions:"
   ]
  },
  {
   "cell_type": "code",
   "execution_count": 298,
   "metadata": {},
   "outputs": [
    {
     "name": "stdout",
     "output_type": "stream",
     "text": [
      "x is equal to 5\n"
     ]
    }
   ],
   "source": [
    "x = 5\n",
    "\n",
    "if x > 5:\n",
    "    print(\"x is greater than 5\")\n",
    "elif x == 5:\n",
    "    print(\"x is equal to 5\")\n",
    "else:\n",
    "    print(\"x is less than 5\")"
   ]
  },
  {
   "cell_type": "markdown",
   "metadata": {},
   "source": [
    "### 4. Nested `if` Statements\n",
    "\n",
    "You can nest if statements to check conditions within conditions:"
   ]
  },
  {
   "cell_type": "code",
   "execution_count": 299,
   "metadata": {},
   "outputs": [
    {
     "name": "stdout",
     "output_type": "stream",
     "text": [
      "x is greater than 5\n",
      "y is also greater than 2\n"
     ]
    }
   ],
   "source": [
    "x = 10\n",
    "y = 5\n",
    "\n",
    "if x > 5:\n",
    "    print(\"x is greater than 5\")\n",
    "    \n",
    "    if y > 2:\n",
    "        print(\"y is also greater than 2\")\n",
    "    else:\n",
    "        print(\"y is not greater than 2\")"
   ]
  },
  {
   "cell_type": "markdown",
   "metadata": {},
   "source": [
    "### 5. Logical Operators (`and`, `or`, `not`)\n",
    "\n",
    "Combine conditions using logical operators:"
   ]
  },
  {
   "cell_type": "code",
   "execution_count": 300,
   "metadata": {},
   "outputs": [
    {
     "name": "stdout",
     "output_type": "stream",
     "text": [
      "You are between 18 and 30 years old\n",
      "You are not older than 30\n"
     ]
    }
   ],
   "source": [
    "age = 25\n",
    "\n",
    "if age >= 18 and age <= 30:\n",
    "    print(\"You are between 18 and 30 years old\")\n",
    "\n",
    "if age < 18 or age > 65:\n",
    "    print(\"You are either under 18 or over 65\")\n",
    "\n",
    "if not age > 30:\n",
    "    print(\"You are not older than 30\")"
   ]
  },
  {
   "cell_type": "markdown",
   "metadata": {},
   "source": [
    "### 6. Ternary Conditional Expression\n",
    "\n",
    "Use a ternary conditional expression for a concise way to write simple `if`-`else` statements:"
   ]
  },
  {
   "cell_type": "code",
   "execution_count": 301,
   "metadata": {},
   "outputs": [
    {
     "name": "stdout",
     "output_type": "stream",
     "text": [
      "x is greater than 5\n"
     ]
    }
   ],
   "source": [
    "x = 8\n",
    "\n",
    "message = \"x is greater than 5\" if x > 5 else \"x is not greater than 5\"\n",
    "print(message)"
   ]
  },
  {
   "cell_type": "markdown",
   "metadata": {},
   "source": [
    "Conditional statements are essential for creating dynamic and responsive programs. They allow your code to make decisions and respond to different situations, making your programs more flexible and capable of handling various scenarios."
   ]
  },
  {
   "cell_type": "markdown",
   "metadata": {},
   "source": [
    "<hr/>"
   ]
  },
  {
   "cell_type": "markdown",
   "metadata": {},
   "source": [
    "\n",
    "## Loops\n",
    "\n",
    "Loops are essential for repeating a block of code multiple times. In Python, there are two main types of loops: `for` loops and `while` loops.\n",
    "\n",
    "### 1. `for` Loop\n",
    "\n",
    "The `for` loop is used for iterating over a sequence (such as a list, tuple, string, or range). It executes a block of code for each item in the sequence:\n",
    "\n",
    "Example with a List:"
   ]
  },
  {
   "cell_type": "code",
   "execution_count": 302,
   "metadata": {},
   "outputs": [
    {
     "name": "stdout",
     "output_type": "stream",
     "text": [
      "apple\n",
      "banana\n",
      "cherry\n"
     ]
    }
   ],
   "source": [
    "fruits = [\"apple\", \"banana\", \"cherry\"]\n",
    "\n",
    "for fruit in fruits:\n",
    "    print(fruit)"
   ]
  },
  {
   "cell_type": "markdown",
   "metadata": {},
   "source": [
    "Example with a Range:"
   ]
  },
  {
   "cell_type": "code",
   "execution_count": 303,
   "metadata": {},
   "outputs": [
    {
     "name": "stdout",
     "output_type": "stream",
     "text": [
      "0\n",
      "1\n",
      "2\n",
      "3\n",
      "4\n"
     ]
    }
   ],
   "source": [
    "for i in range(5):\n",
    "    print(i)"
   ]
  },
  {
   "cell_type": "markdown",
   "metadata": {},
   "source": [
    "### 2. `while` Loop\n",
    "\n",
    "The `while` loop continues to execute a block of code as long as a specified condition is true:"
   ]
  },
  {
   "cell_type": "code",
   "execution_count": 304,
   "metadata": {},
   "outputs": [
    {
     "name": "stdout",
     "output_type": "stream",
     "text": [
      "0\n",
      "1\n",
      "2\n",
      "3\n",
      "4\n"
     ]
    }
   ],
   "source": [
    "count = 0\n",
    "\n",
    "while count < 5:\n",
    "    print(count)\n",
    "    count += 1"
   ]
  },
  {
   "cell_type": "markdown",
   "metadata": {},
   "source": [
    "### 3. Loop Control Statements\n",
    "\n",
    "a. `break` Statement\n",
    "\n",
    "The `break` statement is used to exit the loop prematurely, regardless of whether the loop condition is true or false:"
   ]
  },
  {
   "cell_type": "code",
   "execution_count": 305,
   "metadata": {},
   "outputs": [
    {
     "name": "stdout",
     "output_type": "stream",
     "text": [
      "0\n",
      "1\n",
      "2\n",
      "3\n",
      "4\n"
     ]
    }
   ],
   "source": [
    "for number in range(10):\n",
    "    if number == 5:\n",
    "        break\n",
    "    print(number)"
   ]
  },
  {
   "cell_type": "markdown",
   "metadata": {},
   "source": [
    "b. `continue` Statement\n",
    "\n",
    "The `continue` statement is used to skip the rest of the code inside the loop for the current iteration and move to the next iteration:"
   ]
  },
  {
   "cell_type": "code",
   "execution_count": 306,
   "metadata": {},
   "outputs": [
    {
     "name": "stdout",
     "output_type": "stream",
     "text": [
      "1\n",
      "3\n",
      "5\n",
      "7\n",
      "9\n"
     ]
    }
   ],
   "source": [
    "for number in range(10):\n",
    "    if number % 2 == 0:\n",
    "        continue\n",
    "    print(number)"
   ]
  },
  {
   "cell_type": "markdown",
   "metadata": {},
   "source": [
    "c. `else` Clause in Loops\n",
    "\n",
    "Python allows an `else` clause to be associated with a loop. The `else` block is executed when the loop condition becomes false:"
   ]
  },
  {
   "cell_type": "code",
   "execution_count": 307,
   "metadata": {},
   "outputs": [
    {
     "name": "stdout",
     "output_type": "stream",
     "text": [
      "0\n",
      "1\n",
      "2\n",
      "3\n",
      "4\n",
      "Loop completed without a break\n"
     ]
    }
   ],
   "source": [
    "for i in range(5):\n",
    "    print(i)\n",
    "else:\n",
    "    print(\"Loop completed without a break\")"
   ]
  },
  {
   "cell_type": "markdown",
   "metadata": {},
   "source": [
    "### 4. Nested Loops\n",
    "\n",
    "You can have loops inside loops, known as nested loops:"
   ]
  },
  {
   "cell_type": "code",
   "execution_count": 308,
   "metadata": {},
   "outputs": [
    {
     "name": "stdout",
     "output_type": "stream",
     "text": [
      "(0, 0)\n",
      "(0, 1)\n",
      "(1, 0)\n",
      "(1, 1)\n",
      "(2, 0)\n",
      "(2, 1)\n"
     ]
    }
   ],
   "source": [
    "for i in range(3):\n",
    "    for j in range(2):\n",
    "        print(f\"({i}, {j})\")"
   ]
  },
  {
   "cell_type": "markdown",
   "metadata": {},
   "source": [
    "### 5. Iterating Over Dictionaries\n",
    "\n",
    "You can use the `items()` method to iterate over key-value pairs in a dictionary:"
   ]
  },
  {
   "cell_type": "code",
   "execution_count": 309,
   "metadata": {},
   "outputs": [
    {
     "name": "stdout",
     "output_type": "stream",
     "text": [
      "name: Alice\n",
      "age: 30\n",
      "city: Wonderland\n"
     ]
    }
   ],
   "source": [
    "person = {\"name\": \"Alice\", \"age\": 30, \"city\": \"Wonderland\"}\n",
    "\n",
    "for key, value in person.items():\n",
    "    print(f\"{key}: {value}\")"
   ]
  },
  {
   "cell_type": "markdown",
   "metadata": {},
   "source": [
    "### 6. `enumerate()` Function\n",
    "\n",
    "The `enumerate()` function is used to iterate over a sequence and keep track of the index:"
   ]
  },
  {
   "cell_type": "code",
   "execution_count": 310,
   "metadata": {},
   "outputs": [
    {
     "name": "stdout",
     "output_type": "stream",
     "text": [
      "Index 0: apple\n",
      "Index 1: banana\n",
      "Index 2: cherry\n"
     ]
    }
   ],
   "source": [
    "fruits = [\"apple\", \"banana\", \"cherry\"]\n",
    "\n",
    "for index, fruit in enumerate(fruits):\n",
    "    print(f\"Index {index}: {fruit}\")"
   ]
  },
  {
   "cell_type": "markdown",
   "metadata": {},
   "source": [
    "Loops are fundamental to programming and are used for a variety of tasks, from iterating over data to implementing control flow in your programs. Understanding how to effectively use loops is key to writing efficient and readable code."
   ]
  },
  {
   "cell_type": "markdown",
   "metadata": {},
   "source": [
    "<hr/>"
   ]
  },
  {
   "cell_type": "markdown",
   "metadata": {},
   "source": [
    "## Tuples\n",
    "\n",
    "Tuples are a versatile and immutable data type in Python. They are similar to lists but with a key difference: once a tuple is created, its elements cannot be changed or modified. Tuples are created using parentheses `()`.\n",
    "\n",
    "### 1. Creating Tuples"
   ]
  },
  {
   "cell_type": "code",
   "execution_count": 311,
   "metadata": {},
   "outputs": [],
   "source": [
    "# Creating an empty tuple.\n",
    "empty_tuple = ()\n",
    "\n",
    "# Creating a tuple with elements.\n",
    "fruits = (\"apple\", \"banana\", \"cherry\")"
   ]
  },
  {
   "cell_type": "markdown",
   "metadata": {},
   "source": [
    "### 2. Accessing Elements\n",
    "\n",
    "Tuples support indexing and slicing, similar to lists:"
   ]
  },
  {
   "cell_type": "code",
   "execution_count": 312,
   "metadata": {},
   "outputs": [
    {
     "name": "stdout",
     "output_type": "stream",
     "text": [
      "apple\n",
      "('banana', 'cherry')\n"
     ]
    }
   ],
   "source": [
    "print(fruits[0])   # Output: apple\n",
    "print(fruits[1:3])  # Output: ('banana', 'cherry')"
   ]
  },
  {
   "cell_type": "markdown",
   "metadata": {},
   "source": [
    "### 3. Immutable Nature\n",
    "\n",
    "Once a tuple is created, you cannot modify its elements. However, you can create a new tuple with modifications:"
   ]
  },
  {
   "cell_type": "code",
   "execution_count": 313,
   "metadata": {},
   "outputs": [
    {
     "name": "stdout",
     "output_type": "stream",
     "text": [
      "('apple', 'banana', 'cherry', 'orange', 'grape')\n"
     ]
    }
   ],
   "source": [
    "# Trying to modify a tuple (will raise an error).\n",
    "# fruits[0] = \"orange\"\n",
    "\n",
    "# Creating a new tuple with modifications.\n",
    "modified_fruits = fruits + (\"orange\", \"grape\")\n",
    "print(modified_fruits)  # Output: ('apple', 'banana', 'cherry', 'orange', 'grape')"
   ]
  },
  {
   "cell_type": "markdown",
   "metadata": {},
   "source": [
    "### 4. Tuple Packing and Unpacking\n",
    "\n",
    "Tuple packing is the process of creating a tuple by placing values inside parentheses. Tuple unpacking is the reverse, where values in a tuple are assigned to variables:"
   ]
  },
  {
   "cell_type": "code",
   "execution_count": 314,
   "metadata": {},
   "outputs": [
    {
     "name": "stdout",
     "output_type": "stream",
     "text": [
      "3 5\n"
     ]
    }
   ],
   "source": [
    "# Tuple packing.\n",
    "coordinates = (3, 5)\n",
    "\n",
    "# Tuple unpacking.\n",
    "x, y = coordinates\n",
    "print(x, y)  # Output: 3 5"
   ]
  },
  {
   "cell_type": "markdown",
   "metadata": {},
   "source": [
    "### 5. Tuple Methods\n",
    "\n",
    "Tuples have a few built-in methods:\n",
    "\n",
    "`count()`: Returns the number of occurrences of a value.\n",
    "`index()`: Returns the index of the first occurrence of a value."
   ]
  },
  {
   "cell_type": "code",
   "execution_count": 315,
   "metadata": {},
   "outputs": [
    {
     "name": "stdout",
     "output_type": "stream",
     "text": [
      "2\n",
      "3\n"
     ]
    }
   ],
   "source": [
    "numbers = (1, 2, 3, 4, 2, 5)\n",
    "\n",
    "print(numbers.count(2))  # Output: 2 (number of occurrences of 2)\n",
    "print(numbers.index(4))  # Output: 3 (index of the first occurrence of 4)"
   ]
  },
  {
   "cell_type": "markdown",
   "metadata": {},
   "source": [
    "### 6. Iterating Over Tuples\n",
    "\n",
    "You can use a for loop to iterate over the elements of a tuple:"
   ]
  },
  {
   "cell_type": "code",
   "execution_count": 316,
   "metadata": {},
   "outputs": [
    {
     "name": "stdout",
     "output_type": "stream",
     "text": [
      "apple\n",
      "banana\n",
      "cherry\n"
     ]
    }
   ],
   "source": [
    "fruits = (\"apple\", \"banana\", \"cherry\")\n",
    "\n",
    "for fruit in fruits:\n",
    "    print(fruit)"
   ]
  },
  {
   "cell_type": "markdown",
   "metadata": {},
   "source": [
    "### 7. Advantages of Tuples\n",
    "\n",
    "__Immutable__: Tuples provide data integrity and are suitable for situations where the data should not be changed.\n",
    "\n",
    "__Performance__: Tuples can be faster than lists for certain operations because of their immutability.\n",
    "\n",
    "__Valid Dictionary Key__: Tuples can be used as keys in dictionaries, unlike lists."
   ]
  },
  {
   "cell_type": "markdown",
   "metadata": {},
   "source": [
    "### 8. When to Use Tuples\n",
    "\n",
    "Use tuples when you have a collection of items that should remain constant throughout the program's execution. For example, representing coordinates, RGB values, or dates."
   ]
  },
  {
   "cell_type": "code",
   "execution_count": 317,
   "metadata": {},
   "outputs": [],
   "source": [
    "rgb_values = ((255, 0, 0), (0, 255, 0), (0, 0, 255))"
   ]
  },
  {
   "cell_type": "markdown",
   "metadata": {},
   "source": [
    "Understanding the characteristics and use cases of tuples will allow you to choose the appropriate data structure for your specific programming needs."
   ]
  },
  {
   "cell_type": "markdown",
   "metadata": {},
   "source": [
    "<hr/>"
   ]
  },
  {
   "cell_type": "markdown",
   "metadata": {},
   "source": [
    "## Dictionaries\n",
    "\n",
    "Dictionaries are a powerful and flexible data structure in Python, allowing you to store and retrieve data in key-value pairs. Each key in a dictionary must be unique, and the values can be of any data type. Dictionaries are created using curly braces `{}`.\n",
    "\n",
    "### 1. Creating Dictionaries"
   ]
  },
  {
   "cell_type": "code",
   "execution_count": 318,
   "metadata": {},
   "outputs": [],
   "source": [
    "# Creating an empty dictionary.\n",
    "empty_dict = {}\n",
    "\n",
    "# Creating a dictionary with key-value pairs.\n",
    "person = {\"name\": \"John\", \"age\": 30, \"city\": \"New York\"}"
   ]
  },
  {
   "cell_type": "markdown",
   "metadata": {},
   "source": [
    "### 2. Accessing Values\n",
    "Access values in a dictionary using their corresponding keys:"
   ]
  },
  {
   "cell_type": "code",
   "execution_count": 319,
   "metadata": {},
   "outputs": [
    {
     "name": "stdout",
     "output_type": "stream",
     "text": [
      "John\n",
      "30\n"
     ]
    }
   ],
   "source": [
    "print(person[\"name\"])  # Output: John\n",
    "print(person[\"age\"])   # Output: 30"
   ]
  },
  {
   "cell_type": "markdown",
   "metadata": {},
   "source": [
    "### 3. Modifying and Adding Items\n",
    "Dictionaries are mutable, so you can modify values or add new key-value pairs:"
   ]
  },
  {
   "cell_type": "code",
   "execution_count": 320,
   "metadata": {},
   "outputs": [
    {
     "name": "stdout",
     "output_type": "stream",
     "text": [
      "{'name': 'John', 'age': 31, 'city': 'New York', 'gender': 'Male'}\n"
     ]
    }
   ],
   "source": [
    "# Modifying a value.\n",
    "person[\"age\"] = 31\n",
    "\n",
    "# Adding a new key-value pair.\n",
    "person[\"gender\"] = \"Male\"\n",
    "\n",
    "print(person)\n",
    "# Output: {'name': 'John', 'age': 31, 'city': 'New York', 'gender': 'Male'}"
   ]
  },
  {
   "cell_type": "markdown",
   "metadata": {},
   "source": [
    "### 4. Dictionary Methods\n",
    "Dictionaries have various built-in methods for manipulation:\n",
    "\n",
    "* `keys()`: Returns a view of all keys.\n",
    "* `values()`: Returns a view of all values.\n",
    "* `items()`: Returns a view of all key-value pairs.\n",
    "* `get()`: Returns the value for a given key, with a default value if the key is not present."
   ]
  },
  {
   "cell_type": "code",
   "execution_count": 321,
   "metadata": {},
   "outputs": [
    {
     "name": "stdout",
     "output_type": "stream",
     "text": [
      "dict_keys(['name', 'age', 'city', 'gender'])\n",
      "dict_values(['John', 31, 'New York', 'Male'])\n",
      "dict_items([('name', 'John'), ('age', 31), ('city', 'New York'), ('gender', 'Male')])\n",
      "USA\n"
     ]
    }
   ],
   "source": [
    "print(person.keys())    # Output: dict_keys(['name', 'age', 'city', 'gender'])\n",
    "print(person.values())  # Output: dict_values(['John', 31, 'New York', 'Male'])\n",
    "print(person.items())   # Output: dict_items([('name', 'John'), ('age', 31), ('city', 'New York'), ('gender', 'Male')])\n",
    "\n",
    "# Using get() to avoid KeyError.\n",
    "print(person.get(\"country\", \"USA\"))  # Output: USA (default value when key 'country' is not present)"
   ]
  },
  {
   "cell_type": "markdown",
   "metadata": {},
   "source": [
    "### 5. Checking if a Key Exists\n",
    "You can use the in keyword to check if a key exists in a dictionary:"
   ]
  },
  {
   "cell_type": "code",
   "execution_count": 322,
   "metadata": {},
   "outputs": [
    {
     "name": "stdout",
     "output_type": "stream",
     "text": [
      "True\n",
      "False\n"
     ]
    }
   ],
   "source": [
    "print(\"age\" in person)     # Output: True\n",
    "print(\"country\" in person) # Output: False"
   ]
  },
  {
   "cell_type": "markdown",
   "metadata": {},
   "source": [
    "### 6. Nested Dictionaries\n",
    "Dictionaries can contain other dictionaries, creating a nested structure:"
   ]
  },
  {
   "cell_type": "code",
   "execution_count": 323,
   "metadata": {},
   "outputs": [],
   "source": [
    "contacts = {\n",
    "    \"John\": {\"phone\": \"123-456-7890\", \"email\": \"john@example.com\"},\n",
    "    \"Alice\": {\"phone\": \"987-654-3210\", \"email\": \"alice@example.com\"}\n",
    "}"
   ]
  },
  {
   "cell_type": "markdown",
   "metadata": {},
   "source": [
    "### 7. Dictionary Comprehensions\n",
    "Similar to list comprehensions, you can use dictionary comprehensions to create dictionaries in a concise manner:"
   ]
  },
  {
   "cell_type": "code",
   "execution_count": 324,
   "metadata": {},
   "outputs": [
    {
     "name": "stdout",
     "output_type": "stream",
     "text": [
      "{1: 1, 2: 4, 3: 9, 4: 16, 5: 25}\n"
     ]
    }
   ],
   "source": [
    "squares = {x: x**2 for x in range(1, 6)}\n",
    "print(squares)\n",
    "# Output: {1: 1, 2: 4, 3: 9, 4: 16, 5: 25}"
   ]
  },
  {
   "cell_type": "markdown",
   "metadata": {},
   "source": [
    "### 8. When to Use Dictionaries\n",
    "Dictionaries are suitable when you have a set of unique keys mapped to corresponding values. They are efficient for quick data retrieval and are commonly used for representing structured data like JSON.\n",
    "\n",
    "Understanding how to create, access, and manipulate dictionaries is crucial for working with complex data structures and building efficient programs in Python."
   ]
  },
  {
   "cell_type": "markdown",
   "metadata": {},
   "source": [
    "<hr/>"
   ]
  },
  {
   "cell_type": "markdown",
   "metadata": {},
   "source": [
    "## Sets\n",
    "A set is a built-in data type in Python that represents an unordered collection of unique elements. Sets are defined by enclosing elements in curly braces `{}`. They are widely used for tasks that involve mathematical set operations.\n",
    "\n",
    "### 1. Creating Sets\n",
    "You can create a set using curly braces or the set() constructor:"
   ]
  },
  {
   "cell_type": "code",
   "execution_count": 325,
   "metadata": {},
   "outputs": [],
   "source": [
    "# Creating a set using curly braces\n",
    "my_set = {1, 2, 3, 4, 5}\n",
    "\n",
    "# Creating a set using the set() constructor\n",
    "another_set = set([3, 4, 5, 6, 7])"
   ]
  },
  {
   "cell_type": "markdown",
   "metadata": {},
   "source": [
    "### 2. Adding and Removing Elements\n",
    "Sets are mutable, allowing you to add and remove elements:"
   ]
  },
  {
   "cell_type": "code",
   "execution_count": 326,
   "metadata": {},
   "outputs": [],
   "source": [
    "# Adding an element\n",
    "my_set.add(6)\n",
    "\n",
    "# Removing an element\n",
    "my_set.remove(3)"
   ]
  },
  {
   "cell_type": "markdown",
   "metadata": {},
   "source": [
    "### 3. Set Operations\n",
    "Sets support various operations for combining and manipulating sets:\n",
    "\n",
    "* __Union__ (`|`): Combines elements from two sets, excluding duplicates.\n",
    "* __Intersection__ (`&`): Returns elements common to both sets.\n",
    "* __Difference__ (`-`): Returns elements present in the first set but not in the second.\n",
    "* __Symmetric Difference__ (`^`): Returns elements present in either of the sets, but not in both."
   ]
  },
  {
   "cell_type": "code",
   "execution_count": 327,
   "metadata": {},
   "outputs": [],
   "source": [
    "set1 = {1, 2, 3, 4}\n",
    "set2 = {3, 4, 5, 6}\n",
    "\n",
    "union_set = set1 | set2        # {1, 2, 3, 4, 5, 6}\n",
    "intersection_set = set1 & set2  # {3, 4}\n",
    "difference_set = set1 - set2    # {1, 2}\n",
    "symmetric_difference_set = set1 ^ set2  # {1, 2, 5, 6}"
   ]
  },
  {
   "cell_type": "markdown",
   "metadata": {},
   "source": [
    "### 4. Membership Testing\n",
    "You can use the `in` keyword to check if an element is present in a set:"
   ]
  },
  {
   "cell_type": "code",
   "execution_count": 328,
   "metadata": {},
   "outputs": [
    {
     "name": "stdout",
     "output_type": "stream",
     "text": [
      "False\n",
      "True\n"
     ]
    }
   ],
   "source": [
    "print(3 in my_set)  # Output: False (3 was removed earlier)\n",
    "print(4 in my_set)  # Output: True"
   ]
  },
  {
   "cell_type": "markdown",
   "metadata": {},
   "source": [
    "### 5. Set Methods\n",
    "Sets have several built-in methods for common set operations:\n",
    "\n",
    "* `add()`: Adds an element to the set.\n",
    "* `remove()`: Removes a specified element from the set (raises an error if the element is not present).\n",
    "* `discard()`: Removes a specified element from the set (does not raise an error if the element is not present).\n",
    "* `clear()`: Removes all elements from the set.\n",
    "* `copy()`: Returns a shallow copy of the set."
   ]
  },
  {
   "cell_type": "code",
   "execution_count": 329,
   "metadata": {},
   "outputs": [],
   "source": [
    "my_set.add(7)\n",
    "my_set.remove(2)\n",
    "my_set.discard(10)  # No error even if 10 is not present\n",
    "my_set.clear()"
   ]
  },
  {
   "cell_type": "markdown",
   "metadata": {},
   "source": [
    "### 6. Frozen Sets\n",
    "Python also supports an immutable version of sets called frozen sets, created using the `frozenset()` constructor. Frozen sets cannot be modified after creation."
   ]
  },
  {
   "cell_type": "code",
   "execution_count": 330,
   "metadata": {},
   "outputs": [],
   "source": [
    "frozen_set = frozenset([1, 2, 3, 4])"
   ]
  },
  {
   "cell_type": "markdown",
   "metadata": {},
   "source": [
    "Sets are a valuable tool for dealing with collections of unique elements, and they provide efficient methods for performing set operations. Understanding how to use sets can simplify tasks that involve checking for uniqueness, combining datasets, and performing set arithmetic."
   ]
  },
  {
   "cell_type": "markdown",
   "metadata": {},
   "source": [
    "<hr/>"
   ]
  },
  {
   "cell_type": "markdown",
   "metadata": {},
   "source": [
    "## Functions\n",
    "Functions are blocks of reusable code that perform a specific task. They are fundamental to organizing and structuring code in a modular way. In Python, functions are defined using the `def` keyword.\n",
    "\n",
    "### 1. Defining a Function"
   ]
  },
  {
   "cell_type": "code",
   "execution_count": 331,
   "metadata": {},
   "outputs": [
    {
     "name": "stdout",
     "output_type": "stream",
     "text": [
      "Hello, John!\n"
     ]
    }
   ],
   "source": [
    "def greet(name):\n",
    "    \"\"\"This function greets the person passed in as a parameter.\"\"\"\n",
    "    print(f\"Hello, {name}!\")\n",
    "\n",
    "# Calling the function.\n",
    "greet(\"John\")"
   ]
  },
  {
   "cell_type": "markdown",
   "metadata": {},
   "source": [
    "### 2. Function Parameters and Arguments\n",
    "Functions can take parameters (input values) to perform operations. Parameters are specified in the function definition. Arguments are the actual values passed to the function when it is called."
   ]
  },
  {
   "cell_type": "code",
   "execution_count": 332,
   "metadata": {},
   "outputs": [
    {
     "name": "stdout",
     "output_type": "stream",
     "text": [
      "8\n"
     ]
    }
   ],
   "source": [
    "def add_numbers(a, b):\n",
    "    \"\"\"This function adds two numbers.\"\"\"\n",
    "    result = a + b\n",
    "    return result\n",
    "\n",
    "# Calling the function with arguments.\n",
    "sum_result = add_numbers(3, 5)\n",
    "print(sum_result)  # Output: 8"
   ]
  },
  {
   "cell_type": "markdown",
   "metadata": {},
   "source": [
    "### 3. Default Parameter Values\n",
    "You can provide default values for parameters, making them optional when calling the function:"
   ]
  },
  {
   "cell_type": "code",
   "execution_count": 333,
   "metadata": {},
   "outputs": [
    {
     "name": "stdout",
     "output_type": "stream",
     "text": [
      "Hello, John!\n",
      "Hi, Alice!\n"
     ]
    }
   ],
   "source": [
    "def greet(name, greeting=\"Hello\"):\n",
    "    \"\"\"This function greets a person with a specified greeting.\"\"\"\n",
    "    print(f\"{greeting}, {name}!\")\n",
    "\n",
    "# Calling the function with and without the second argument.\n",
    "greet(\"John\")           # Output: Hello, John!\n",
    "greet(\"Alice\", \"Hi\")    # Output: Hi, Alice!"
   ]
  },
  {
   "cell_type": "markdown",
   "metadata": {},
   "source": [
    "### 4. Return Statement\n",
    "Functions can return values using the `return` statement. The function exits when a `return`` statement is encountered:"
   ]
  },
  {
   "cell_type": "code",
   "execution_count": 334,
   "metadata": {},
   "outputs": [
    {
     "name": "stdout",
     "output_type": "stream",
     "text": [
      "16\n"
     ]
    }
   ],
   "source": [
    "def square(x):\n",
    "    \"\"\"This function returns the square of a number.\"\"\"\n",
    "    return x ** 2\n",
    "\n",
    "result = square(4)\n",
    "print(result)  # Output: 16"
   ]
  },
  {
   "cell_type": "markdown",
   "metadata": {},
   "source": [
    "### 5. Multiple Return Values\n",
    "Functions can return multiple values as a tuple:"
   ]
  },
  {
   "cell_type": "code",
   "execution_count": 335,
   "metadata": {},
   "outputs": [
    {
     "name": "stdout",
     "output_type": "stream",
     "text": [
      "(3, 5)\n"
     ]
    }
   ],
   "source": [
    "def get_coordinates():\n",
    "    \"\"\"This function returns a tuple of coordinates.\"\"\"\n",
    "    x = 3\n",
    "    y = 5\n",
    "    return x, y\n",
    "\n",
    "coordinates = get_coordinates()\n",
    "print(coordinates)  # Output: (3, 5)\n"
   ]
  },
  {
   "cell_type": "markdown",
   "metadata": {},
   "source": [
    "### 6. Variable Scope\n",
    "Variables defined inside a function have local scope and are not accessible outside the function. However, variables defined outside functions have global scope:"
   ]
  },
  {
   "cell_type": "code",
   "execution_count": 336,
   "metadata": {},
   "outputs": [
    {
     "name": "stdout",
     "output_type": "stream",
     "text": [
      "10\n"
     ]
    }
   ],
   "source": [
    "global_variable = 10\n",
    "\n",
    "def print_global_variable():\n",
    "    \"\"\"This function prints the global variable.\"\"\"\n",
    "    print(global_variable)\n",
    "\n",
    "print_global_variable()  # Output: 10"
   ]
  },
  {
   "cell_type": "markdown",
   "metadata": {},
   "source": [
    "### 7. Lambda Functions (Anonymous Functions)\n",
    "Lambda functions are small, anonymous functions defined using the `lambda` keyword. They are often used for short-term operations:"
   ]
  },
  {
   "cell_type": "code",
   "execution_count": 337,
   "metadata": {},
   "outputs": [
    {
     "name": "stdout",
     "output_type": "stream",
     "text": [
      "12\n"
     ]
    }
   ],
   "source": [
    "multiply = lambda x, y: x * y\n",
    "result = multiply(3, 4)\n",
    "print(result)  # Output: 12"
   ]
  },
  {
   "cell_type": "markdown",
   "metadata": {},
   "source": [
    "### 8. Docstrings\n",
    "Docstrings are used to document functions. They are placed in triple-quotes immediately after the function definition:"
   ]
  },
  {
   "cell_type": "code",
   "execution_count": 338,
   "metadata": {},
   "outputs": [],
   "source": [
    "def calculate_area(radius):\n",
    "    \"\"\"This function calculates the area of a circle.\"\"\"\n",
    "    area = 3.14 * radius ** 2\n",
    "    return area"
   ]
  },
  {
   "cell_type": "markdown",
   "metadata": {},
   "source": [
    "### 9. Recursion\n",
    "A function can call itself, a concept known as recursion:"
   ]
  },
  {
   "cell_type": "code",
   "execution_count": 339,
   "metadata": {},
   "outputs": [],
   "source": [
    "def factorial(n):\n",
    "    \"\"\"This function calculates the factorial of a number.\"\"\"\n",
    "    if n == 0 or n == 1:\n",
    "        return 1\n",
    "    else:\n",
    "        return n * factorial(n - 1)"
   ]
  },
  {
   "cell_type": "markdown",
   "metadata": {},
   "source": [
    "Functions are crucial for building modular and reusable code. They enhance code readability, simplify maintenance, and promote code organization. Understanding how to define, call, and work with functions is essential for effective Python programming."
   ]
  },
  {
   "cell_type": "markdown",
   "metadata": {},
   "source": [
    "<hr/>"
   ]
  },
  {
   "cell_type": "markdown",
   "metadata": {},
   "source": [
    "### Exception Handling in Python\n",
    "Exception handling allows you to gracefully manage errors that might occur during the execution of your program. In Python, exceptions are raised when an error occurs, and you can use `try`, `except`, `else`, and `finally` blocks to handle them.\n",
    "\n",
    "### 1. `try`-`except` Blocks\n",
    "Use the `try` block to enclose the code that might raise an exception. The `except` block specifies how to handle the exception:"
   ]
  },
  {
   "cell_type": "code",
   "execution_count": 340,
   "metadata": {},
   "outputs": [
    {
     "name": "stdout",
     "output_type": "stream",
     "text": [
      "Cannot divide by zero!\n"
     ]
    }
   ],
   "source": [
    "try:\n",
    "    # Code that might raise an exception.\n",
    "    result = 10 / 0\n",
    "except ZeroDivisionError:\n",
    "    print(\"Cannot divide by zero!\")"
   ]
  },
  {
   "cell_type": "markdown",
   "metadata": {},
   "source": [
    "### 2. Handling Multiple Exceptions\n",
    "You can handle multiple exceptions by providing multiple `except` blocks or a tuple of exception types:"
   ]
  },
  {
   "cell_type": "code",
   "execution_count": 341,
   "metadata": {},
   "outputs": [
    {
     "name": "stdout",
     "output_type": "stream",
     "text": [
      "Invalid conversion to integer.\n"
     ]
    }
   ],
   "source": [
    "try:\n",
    "    # Code that might raise an exception.\n",
    "    result = int(\"abc\")\n",
    "except ValueError:\n",
    "    print(\"Invalid conversion to integer.\")\n",
    "except ZeroDivisionError:\n",
    "    print(\"Cannot divide by zero!\")"
   ]
  },
  {
   "cell_type": "markdown",
   "metadata": {},
   "source": [
    "### 3. `else` Block\n",
    "The `else` block contains code that will be executed if no exceptions are raised in the `try` block:"
   ]
  },
  {
   "cell_type": "code",
   "execution_count": 342,
   "metadata": {},
   "outputs": [
    {
     "name": "stdout",
     "output_type": "stream",
     "text": [
      "Division successful. Result: 5.0\n"
     ]
    }
   ],
   "source": [
    "try:\n",
    "    result = 10 / 2\n",
    "except ZeroDivisionError:\n",
    "    print(\"Cannot divide by zero!\")\n",
    "else:\n",
    "    print(\"Division successful. Result:\", result)"
   ]
  },
  {
   "cell_type": "markdown",
   "metadata": {},
   "source": [
    "### 4. `finally` Block\n",
    "The `finally` block contains code that will be executed regardless of whether an exception was raised or not. It is often used for cleanup operations:"
   ]
  },
  {
   "cell_type": "code",
   "execution_count": 343,
   "metadata": {},
   "outputs": [
    {
     "name": "stdout",
     "output_type": "stream",
     "text": [
      "Cannot divide by zero!\n",
      "This code always executes.\n"
     ]
    }
   ],
   "source": [
    "try:\n",
    "    # Code that might raise an exception.\n",
    "    result = 10 / 0\n",
    "except ZeroDivisionError:\n",
    "    print(\"Cannot divide by zero!\")\n",
    "finally:\n",
    "    print(\"This code always executes.\")"
   ]
  },
  {
   "cell_type": "markdown",
   "metadata": {},
   "source": [
    "### 5. Raising Exceptions\n",
    "You can manually raise exceptions using the `raise` statement. This is useful when you want to indicate an error condition in your code:"
   ]
  },
  {
   "cell_type": "code",
   "execution_count": 344,
   "metadata": {},
   "outputs": [
    {
     "ename": "ValueError",
     "evalue": "Age cannot be negative.",
     "output_type": "error",
     "traceback": [
      "\u001b[1;31m---------------------------------------------------------------------------\u001b[0m",
      "\u001b[1;31mValueError\u001b[0m                                Traceback (most recent call last)",
      "\u001b[1;32m~\\AppData\\Local\\Temp\\ipykernel_26820\\2312358681.py\u001b[0m in \u001b[0;36m<module>\u001b[1;34m\u001b[0m\n\u001b[0;32m      2\u001b[0m \u001b[1;33m\u001b[0m\u001b[0m\n\u001b[0;32m      3\u001b[0m \u001b[1;32mif\u001b[0m \u001b[0mage\u001b[0m \u001b[1;33m<\u001b[0m \u001b[1;36m0\u001b[0m\u001b[1;33m:\u001b[0m\u001b[1;33m\u001b[0m\u001b[1;33m\u001b[0m\u001b[0m\n\u001b[1;32m----> 4\u001b[1;33m     \u001b[1;32mraise\u001b[0m \u001b[0mValueError\u001b[0m\u001b[1;33m(\u001b[0m\u001b[1;34m\"Age cannot be negative.\"\u001b[0m\u001b[1;33m)\u001b[0m\u001b[1;33m\u001b[0m\u001b[1;33m\u001b[0m\u001b[0m\n\u001b[0m",
      "\u001b[1;31mValueError\u001b[0m: Age cannot be negative."
     ]
    }
   ],
   "source": [
    "age = -5\n",
    "\n",
    "if age < 0:\n",
    "    raise ValueError(\"Age cannot be negative.\")"
   ]
  },
  {
   "cell_type": "markdown",
   "metadata": {},
   "source": [
    "### 6. Custom Exceptions\n",
    "You can create your own exception classes by inheriting from the `Exception` class. This allows you to define specific types of exceptions for your application:"
   ]
  },
  {
   "cell_type": "code",
   "execution_count": 345,
   "metadata": {},
   "outputs": [
    {
     "name": "stdout",
     "output_type": "stream",
     "text": [
      "Caught an exception: This is a custom exception.\n"
     ]
    }
   ],
   "source": [
    "class CustomError(Exception):\n",
    "    pass\n",
    "\n",
    "try:\n",
    "    raise CustomError(\"This is a custom exception.\")\n",
    "except CustomError as e:\n",
    "    print(f\"Caught an exception: {e}\")"
   ]
  },
  {
   "cell_type": "markdown",
   "metadata": {},
   "source": [
    "### 7. Handling Multiple Exceptions in One Block\n",
    "You can handle multiple exceptions in a single `except` block by using parentheses:"
   ]
  },
  {
   "cell_type": "code",
   "execution_count": 347,
   "metadata": {},
   "outputs": [
    {
     "name": "stdout",
     "output_type": "stream",
     "text": [
      "An error occurred: invalid literal for int() with base 10: 'abc'\n"
     ]
    }
   ],
   "source": [
    "try:\n",
    "    # Code that might raise an exception.\n",
    "    result = int(\"abc\") / 0\n",
    "except (ValueError, ZeroDivisionError) as e:\n",
    "    print(f\"An error occurred: {e}\")"
   ]
  },
  {
   "cell_type": "markdown",
   "metadata": {},
   "source": [
    "Exception handling is crucial for writing robust and error-tolerant code. It allows your program to respond gracefully to unexpected situations and provides a mechanism to communicate errors to the user or log them for later analysis."
   ]
  },
  {
   "cell_type": "markdown",
   "metadata": {},
   "source": [
    "<hr/>"
   ]
  },
  {
   "cell_type": "markdown",
   "metadata": {},
   "source": [
    "## What we have learned …\n",
    "\n",
    "| | | | | |\n",
    "| --- | --- | --- | --- | --- |\n",
    "| **Variables** | **Built-in Data Types** | **Printing with Built-in Types** | **Operators** | **Type Casting** |\n",
    "| **String Manipulation** | **List Manipulation** | **Conditional Statements** | **Conditional Statements** | **Loops in Python** |\n",
    "| **Tuples** | **Dictionaries** | **Sets** | **Functions** | **Exception Handling** |\n",
    "| | | | | |"
   ]
  }
 ],
 "metadata": {
  "kernelspec": {
   "display_name": "Python 3.9.7 64-bit",
   "language": "python",
   "name": "python3"
  },
  "language_info": {
   "codemirror_mode": {
    "name": "ipython",
    "version": 3
   },
   "file_extension": ".py",
   "mimetype": "text/x-python",
   "name": "python",
   "nbconvert_exporter": "python",
   "pygments_lexer": "ipython3",
   "version": "3.9.7"
  },
  "orig_nbformat": 2,
  "vscode": {
   "interpreter": {
    "hash": "8f1e200aa4e9598f1b1017d8bb6526388dc3fae44f5def43455ba665e800f8e8"
   }
  }
 },
 "nbformat": 4,
 "nbformat_minor": 2
}
